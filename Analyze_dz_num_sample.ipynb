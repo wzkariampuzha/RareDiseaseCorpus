{
 "cells": [
  {
   "cell_type": "code",
   "execution_count": 1,
   "metadata": {},
   "outputs": [],
   "source": [
    "#Download any necessary datasets & dependencies, only need to do this once\n",
    "#import sys\n",
    "#!{sys.executable} -m pip install numpy\n",
    "#!{sys.executable} -m pip install pandas\n",
    "#!{sys.executable} -m pip install matplotlib\n",
    "\n",
    "import numpy as np\n",
    "import pandas as pd\n",
    "from collections import OrderedDict\n",
    "import matplotlib.pyplot as plt; plt.rcdefaults()"
   ]
  },
  {
   "cell_type": "code",
   "execution_count": 2,
   "metadata": {},
   "outputs": [],
   "source": [
    "df = pd.read_csv('whole_abstract_set.csv')"
   ]
  },
  {
   "cell_type": "code",
   "execution_count": 3,
   "metadata": {
    "scrolled": true
   },
   "outputs": [
    {
     "data": {
      "text/html": [
       "<div>\n",
       "<style scoped>\n",
       "    .dataframe tbody tr th:only-of-type {\n",
       "        vertical-align: middle;\n",
       "    }\n",
       "\n",
       "    .dataframe tbody tr th {\n",
       "        vertical-align: top;\n",
       "    }\n",
       "\n",
       "    .dataframe thead th {\n",
       "        text-align: right;\n",
       "    }\n",
       "</style>\n",
       "<table border=\"1\" class=\"dataframe\">\n",
       "  <thead>\n",
       "    <tr style=\"text-align: right;\">\n",
       "      <th></th>\n",
       "      <th>disease</th>\n",
       "      <th>pmid</th>\n",
       "      <th>abstract</th>\n",
       "      <th>epi_prob</th>\n",
       "      <th>is_epi</th>\n",
       "    </tr>\n",
       "  </thead>\n",
       "  <tbody>\n",
       "    <tr>\n",
       "      <th>9279</th>\n",
       "      <td>Cogan-Reese syndrome</td>\n",
       "      <td>33300272</td>\n",
       "      <td>Various methods have been described to treat n...</td>\n",
       "      <td>0.010466</td>\n",
       "      <td>False</td>\n",
       "    </tr>\n",
       "    <tr>\n",
       "      <th>9280</th>\n",
       "      <td>Cogan-Reese syndrome</td>\n",
       "      <td>33530790</td>\n",
       "      <td>&lt;h4&gt;Objective&lt;/h4&gt;To assess the therapeutic ef...</td>\n",
       "      <td>0.014457</td>\n",
       "      <td>False</td>\n",
       "    </tr>\n",
       "    <tr>\n",
       "      <th>9281</th>\n",
       "      <td>Cogan-Reese syndrome</td>\n",
       "      <td>33985356</td>\n",
       "      <td>Mayer-Rokitansky-Kuster-Hauser (MRKH) syndrome...</td>\n",
       "      <td>0.402330</td>\n",
       "      <td>False</td>\n",
       "    </tr>\n",
       "    <tr>\n",
       "      <th>9282</th>\n",
       "      <td>Cogan-Reese syndrome</td>\n",
       "      <td>33898257</td>\n",
       "      <td>Mayer-Rokitansky-Küster-Hauser (MRKH) syndrome...</td>\n",
       "      <td>0.012231</td>\n",
       "      <td>False</td>\n",
       "    </tr>\n",
       "    <tr>\n",
       "      <th>9283</th>\n",
       "      <td>Cogan-Reese syndrome</td>\n",
       "      <td>33461758</td>\n",
       "      <td>&lt;h4&gt;Objective&lt;/h4&gt;To introduce the minimally i...</td>\n",
       "      <td>0.014154</td>\n",
       "      <td>False</td>\n",
       "    </tr>\n",
       "  </tbody>\n",
       "</table>\n",
       "</div>"
      ],
      "text/plain": [
       "                   disease      pmid  \\\n",
       "9279  Cogan-Reese syndrome  33300272   \n",
       "9280  Cogan-Reese syndrome  33530790   \n",
       "9281  Cogan-Reese syndrome  33985356   \n",
       "9282  Cogan-Reese syndrome  33898257   \n",
       "9283  Cogan-Reese syndrome  33461758   \n",
       "\n",
       "                                               abstract  epi_prob  is_epi  \n",
       "9279  Various methods have been described to treat n...  0.010466   False  \n",
       "9280  <h4>Objective</h4>To assess the therapeutic ef...  0.014457   False  \n",
       "9281  Mayer-Rokitansky-Kuster-Hauser (MRKH) syndrome...  0.402330   False  \n",
       "9282  Mayer-Rokitansky-Küster-Hauser (MRKH) syndrome...  0.012231   False  \n",
       "9283  <h4>Objective</h4>To introduce the minimally i...  0.014154   False  "
      ]
     },
     "execution_count": 3,
     "metadata": {},
     "output_type": "execute_result"
    }
   ],
   "source": [
    "df.tail()"
   ]
  },
  {
   "cell_type": "code",
   "execution_count": 4,
   "metadata": {},
   "outputs": [
    {
     "name": "stdout",
     "output_type": "stream",
     "text": [
      "9284 7699\n"
     ]
    }
   ],
   "source": [
    "#Total pmids, unique pmids\n",
    "print(len(df[\"pmid\"]),len(df[\"pmid\"].unique()))"
   ]
  },
  {
   "cell_type": "code",
   "execution_count": 5,
   "metadata": {},
   "outputs": [
    {
     "name": "stdout",
     "output_type": "stream",
     "text": [
      "9284 488\n"
     ]
    }
   ],
   "source": [
    "#total abstracts, total diseases\n",
    "print(len(df[\"disease\"]),len(df[\"disease\"].unique()))"
   ]
  },
  {
   "cell_type": "code",
   "execution_count": 6,
   "metadata": {},
   "outputs": [
    {
     "data": {
      "text/html": [
       "<div>\n",
       "<style scoped>\n",
       "    .dataframe tbody tr th:only-of-type {\n",
       "        vertical-align: middle;\n",
       "    }\n",
       "\n",
       "    .dataframe tbody tr th {\n",
       "        vertical-align: top;\n",
       "    }\n",
       "\n",
       "    .dataframe thead th {\n",
       "        text-align: right;\n",
       "    }\n",
       "</style>\n",
       "<table border=\"1\" class=\"dataframe\">\n",
       "  <thead>\n",
       "    <tr style=\"text-align: right;\">\n",
       "      <th></th>\n",
       "      <th>disease</th>\n",
       "      <th>pmid</th>\n",
       "      <th>abstract</th>\n",
       "      <th>epi_prob</th>\n",
       "      <th>is_epi</th>\n",
       "    </tr>\n",
       "  </thead>\n",
       "  <tbody>\n",
       "    <tr>\n",
       "      <th>5</th>\n",
       "      <td>Syngnathia cleft palate</td>\n",
       "      <td>31591086</td>\n",
       "      <td>Cleft palate (CP) is one of the most common co...</td>\n",
       "      <td>0.067265</td>\n",
       "      <td>False</td>\n",
       "    </tr>\n",
       "    <tr>\n",
       "      <th>6</th>\n",
       "      <td>Syngnathia cleft palate</td>\n",
       "      <td>29892327</td>\n",
       "      <td>Congenital maxillomandibular fusion or syngnat...</td>\n",
       "      <td>0.024040</td>\n",
       "      <td>False</td>\n",
       "    </tr>\n",
       "    <tr>\n",
       "      <th>10</th>\n",
       "      <td>Syngnathia cleft palate</td>\n",
       "      <td>28083498</td>\n",
       "      <td>Congenital syngnathia is an extremely rare con...</td>\n",
       "      <td>0.012096</td>\n",
       "      <td>False</td>\n",
       "    </tr>\n",
       "    <tr>\n",
       "      <th>12</th>\n",
       "      <td>Syngnathia cleft palate</td>\n",
       "      <td>31300413</td>\n",
       "      <td>Cleft palate is a common birth defect, occurri...</td>\n",
       "      <td>0.043306</td>\n",
       "      <td>False</td>\n",
       "    </tr>\n",
       "    <tr>\n",
       "      <th>15</th>\n",
       "      <td>Syngnathia cleft palate</td>\n",
       "      <td>25325328</td>\n",
       "      <td>Syngnathia is a rare congenital disorder of ja...</td>\n",
       "      <td>0.011236</td>\n",
       "      <td>False</td>\n",
       "    </tr>\n",
       "    <tr>\n",
       "      <th>...</th>\n",
       "      <td>...</td>\n",
       "      <td>...</td>\n",
       "      <td>...</td>\n",
       "      <td>...</td>\n",
       "      <td>...</td>\n",
       "    </tr>\n",
       "    <tr>\n",
       "      <th>9273</th>\n",
       "      <td>Cogan-Reese syndrome</td>\n",
       "      <td>33752407</td>\n",
       "      <td>&lt;h4&gt;Objective&lt;/h4&gt;To describe the case of a pa...</td>\n",
       "      <td>0.258388</td>\n",
       "      <td>False</td>\n",
       "    </tr>\n",
       "    <tr>\n",
       "      <th>9275</th>\n",
       "      <td>Cogan-Reese syndrome</td>\n",
       "      <td>33765736</td>\n",
       "      <td>Mayer-Rokitansky-Küster-Hauser (MRKH) syndrome...</td>\n",
       "      <td>0.011500</td>\n",
       "      <td>False</td>\n",
       "    </tr>\n",
       "    <tr>\n",
       "      <th>9276</th>\n",
       "      <td>Cogan-Reese syndrome</td>\n",
       "      <td>33621544</td>\n",
       "      <td>&lt;h4&gt;Background&lt;/h4&gt;Müllerian agenesis, or Maye...</td>\n",
       "      <td>0.015171</td>\n",
       "      <td>False</td>\n",
       "    </tr>\n",
       "    <tr>\n",
       "      <th>9281</th>\n",
       "      <td>Cogan-Reese syndrome</td>\n",
       "      <td>33985356</td>\n",
       "      <td>Mayer-Rokitansky-Kuster-Hauser (MRKH) syndrome...</td>\n",
       "      <td>0.402330</td>\n",
       "      <td>False</td>\n",
       "    </tr>\n",
       "    <tr>\n",
       "      <th>9282</th>\n",
       "      <td>Cogan-Reese syndrome</td>\n",
       "      <td>33898257</td>\n",
       "      <td>Mayer-Rokitansky-Küster-Hauser (MRKH) syndrome...</td>\n",
       "      <td>0.012231</td>\n",
       "      <td>False</td>\n",
       "    </tr>\n",
       "  </tbody>\n",
       "</table>\n",
       "<p>2783 rows × 5 columns</p>\n",
       "</div>"
      ],
      "text/plain": [
       "                      disease      pmid  \\\n",
       "5     Syngnathia cleft palate  31591086   \n",
       "6     Syngnathia cleft palate  29892327   \n",
       "10    Syngnathia cleft palate  28083498   \n",
       "12    Syngnathia cleft palate  31300413   \n",
       "15    Syngnathia cleft palate  25325328   \n",
       "...                       ...       ...   \n",
       "9273     Cogan-Reese syndrome  33752407   \n",
       "9275     Cogan-Reese syndrome  33765736   \n",
       "9276     Cogan-Reese syndrome  33621544   \n",
       "9281     Cogan-Reese syndrome  33985356   \n",
       "9282     Cogan-Reese syndrome  33898257   \n",
       "\n",
       "                                               abstract  epi_prob  is_epi  \n",
       "5     Cleft palate (CP) is one of the most common co...  0.067265   False  \n",
       "6     Congenital maxillomandibular fusion or syngnat...  0.024040   False  \n",
       "10    Congenital syngnathia is an extremely rare con...  0.012096   False  \n",
       "12    Cleft palate is a common birth defect, occurri...  0.043306   False  \n",
       "15    Syngnathia is a rare congenital disorder of ja...  0.011236   False  \n",
       "...                                                 ...       ...     ...  \n",
       "9273  <h4>Objective</h4>To describe the case of a pa...  0.258388   False  \n",
       "9275  Mayer-Rokitansky-Küster-Hauser (MRKH) syndrome...  0.011500   False  \n",
       "9276  <h4>Background</h4>Müllerian agenesis, or Maye...  0.015171   False  \n",
       "9281  Mayer-Rokitansky-Kuster-Hauser (MRKH) syndrome...  0.402330   False  \n",
       "9282  Mayer-Rokitansky-Küster-Hauser (MRKH) syndrome...  0.012231   False  \n",
       "\n",
       "[2783 rows x 5 columns]"
      ]
     },
     "execution_count": 6,
     "metadata": {},
     "output_type": "execute_result"
    }
   ],
   "source": [
    "pmid = df[\"pmid\"]\n",
    "df[pmid.isin(pmid[pmid.duplicated()])]#.sort(\"pmid\")"
   ]
  },
  {
   "cell_type": "code",
   "execution_count": 7,
   "metadata": {},
   "outputs": [],
   "source": [
    "abstracts_df = df.drop_duplicates(subset='pmid', keep='first', ignore_index=True)"
   ]
  },
  {
   "cell_type": "code",
   "execution_count": 8,
   "metadata": {},
   "outputs": [],
   "source": [
    "#create a dictionary of {disease name, number of epidemiological studies}\n",
    "dz_num = {}\n",
    "for row in abstracts_df.iterrows():\n",
    "    if row[1][4]: #is_epi bool returned\n",
    "        if row[1][0] in dz_num.keys(): #Check if disease name is in dictionary\n",
    "            dz_num[row[1][0]]+=1\n",
    "        else:\n",
    "            dz_num[row[1][0]] = 1\n",
    "    elif row[1][0] not in dz_num.keys():\n",
    "            dz_num[row[1][0]] = 0"
   ]
  },
  {
   "cell_type": "code",
   "execution_count": 9,
   "metadata": {
    "scrolled": true
   },
   "outputs": [
    {
     "data": {
      "image/png": "[encoded data removed]",
      "text/plain": [
       "<Figure size 640x480 with 1 Axes>"
      ]
     },
     "metadata": {},
     "output_type": "display_data"
    }
   ],
   "source": [
    "#Plot the figure\n",
    "objects = tuple(dz_num)\n",
    "performance = list(dz_num.values())\n",
    "\n",
    "fig = plt.figure()\n",
    "plt.ylabel('# of Diseases')\n",
    "plt.xlabel('# of Articles')\n",
    "plt.hist(performance, bins=[0,1,2,3,4,5,6,7])\n",
    "\n",
    "plt.show()"
   ]
  },
  {
   "cell_type": "code",
   "execution_count": 10,
   "metadata": {},
   "outputs": [],
   "source": [
    "fig.savefig('DiseaseSampleEpi_HistFINAL.png', dpi=400, bbox_inches='tight')"
   ]
  }
 ],
 "metadata": {
  "kernelspec": {
   "display_name": "Python 3",
   "language": "python",
   "name": "python3"
  },
  "language_info": {
   "codemirror_mode": {
    "name": "ipython",
    "version": 3
   },
   "file_extension": ".py",
   "mimetype": "text/x-python",
   "name": "python",
   "nbconvert_exporter": "python",
   "pygments_lexer": "ipython3",
   "version": "3.8.3"
  }
 },
 "nbformat": 4,
 "nbformat_minor": 1
}
