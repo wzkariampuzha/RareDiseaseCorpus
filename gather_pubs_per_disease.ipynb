{
 "cells": [
  {
   "cell_type": "code",
   "execution_count": 1,
   "metadata": {},
   "outputs": [],
   "source": [
    "num_dz = 500 #input(\"How many diseases to sample? \") \n",
    "num_articles = 50 #input(\"How many abstracts to gather per disease? \")\n",
    "test_num = 3 #input(\"How many articles to retrieve in test set? 2-5 is recommended. \")"
   ]
  },
  {
   "cell_type": "code",
   "execution_count": 2,
   "metadata": {},
   "outputs": []
    }
   ],
   "source": [
    "#Download any necessary datasets & dependencies, only need to do this once\n",
    "#import sys\n",
    "#!{sys.executable} -m pip install spacy\n",
    "#!{sys.executable} -m spacy download en_core_web_lg\n",
    "#!{sys.executable} -m pip install https://s3-us-west-2.amazonaws.com/ai2-s2-scispacy/releases/v0.4.0/en_ner_bc5cdr_md-0.4.0.tar.gz\n",
    "#!{sys.executable} -m pip install https://s3-us-west-2.amazonaws.com/ai2-s2-scispacy/releases/v0.4.0/en_ner_bionlp13cg_md-0.4.0.tar.gz\n",
    "#!{sys.executable} -m pip install numpy\n",
    "#!{sys.executable} -m pip install pandas\n",
    "#!{sys.executable} -m pip install requests\n",
    "#!{sys.executable} -m pip install matplotlib\n",
    "\n",
    "#Installing dependencies for classify_abs.py\n",
    "#!{sys.executable} -m pip install tensorflow\n",
    "#!{sys.executable} -m pip install nltk\n",
    "#import nltk\n",
    "#nltk.download('stopwords')\n",
    "#nltk.download('punkt')\n",
    "\n",
    "import numpy as np\n",
    "import pandas as pd\n",
    "import classify_abs\n",
    "import requests\n",
    "import xml.etree.ElementTree as ET\n",
    "import spacy\n",
    "import time\n",
    "import datetime\n",
    "from collections import OrderedDict\n",
    "import matplotlib.pyplot as plt; plt.rcdefaults()"
   ]
  },
  {
   "cell_type": "code",
   "execution_count": 3,
   "metadata": {
    "scrolled": true
   },
   "outputs": [
    {
     "data": {
      "text/html": [
       "<div>\n",
       "<style scoped>\n",
       "    .dataframe tbody tr th:only-of-type {\n",
       "        vertical-align: middle;\n",
       "    }\n",
       "\n",
       "    .dataframe tbody tr th {\n",
       "        vertical-align: top;\n",
       "    }\n",
       "\n",
       "    .dataframe thead th {\n",
       "        text-align: right;\n",
       "    }\n",
       "</style>\n",
       "<table border=\"1\" class=\"dataframe\">\n",
       "  <thead>\n",
       "    <tr style=\"text-align: right;\">\n",
       "      <th></th>\n",
       "      <th>d.gard_id</th>\n",
       "      <th>d.name</th>\n",
       "      <th>d.synonyms</th>\n",
       "    </tr>\n",
       "  </thead>\n",
       "  <tbody>\n",
       "    <tr>\n",
       "      <th>6056</th>\n",
       "      <td>GARD:0013731</td>\n",
       "      <td>T-cell prolymphocytic leukemia</td>\n",
       "      <td>[T Cell Prolymphocytic Leukemia]</td>\n",
       "    </tr>\n",
       "    <tr>\n",
       "      <th>6057</th>\n",
       "      <td>GARD:0013735</td>\n",
       "      <td>Spastic paraplegia 47</td>\n",
       "      <td>NaN</td>\n",
       "    </tr>\n",
       "    <tr>\n",
       "      <th>6058</th>\n",
       "      <td>GARD:0013737</td>\n",
       "      <td>AP-4-Associated Hereditary Spastic Paraplegia</td>\n",
       "      <td>[Severe intellectual disability and progressiv...</td>\n",
       "    </tr>\n",
       "    <tr>\n",
       "      <th>6059</th>\n",
       "      <td>GARD:0013743</td>\n",
       "      <td>Multicentric osteolysis, nodulosis and arthrop...</td>\n",
       "      <td>[Torg-Winchester Syndrome,Torg Syndrome,Nodulo...</td>\n",
       "    </tr>\n",
       "    <tr>\n",
       "      <th>6060</th>\n",
       "      <td>GARD:0013818</td>\n",
       "      <td>Sphingosine phosphate lyase insufficiency synd...</td>\n",
       "      <td>[SPL insufficiency syndrome,SPLIS,Familial ste...</td>\n",
       "    </tr>\n",
       "  </tbody>\n",
       "</table>\n",
       "</div>"
      ],
      "text/plain": [
       "         d.gard_id                                             d.name  \\\n",
       "6056  GARD:0013731                     T-cell prolymphocytic leukemia   \n",
       "6057  GARD:0013735                              Spastic paraplegia 47   \n",
       "6058  GARD:0013737      AP-4-Associated Hereditary Spastic Paraplegia   \n",
       "6059  GARD:0013743  Multicentric osteolysis, nodulosis and arthrop...   \n",
       "6060  GARD:0013818  Sphingosine phosphate lyase insufficiency synd...   \n",
       "\n",
       "                                             d.synonyms  \n",
       "6056                   [T Cell Prolymphocytic Leukemia]  \n",
       "6057                                                NaN  \n",
       "6058  [Severe intellectual disability and progressiv...  \n",
       "6059  [Torg-Winchester Syndrome,Torg Syndrome,Nodulo...  \n",
       "6060  [SPL insufficiency syndrome,SPLIS,Familial ste...  "
      ]
     },
     "execution_count": 3,
     "metadata": {},
     "output_type": "execute_result"
    }
   ],
   "source": [
    "#Read in GARD diseases\n",
    "df = pd.read_csv('GARD.csv')\n",
    "df.tail()"
   ]
  },
  {
   "cell_type": "code",
   "execution_count": 4,
   "metadata": {},
   "outputs": [],
   "source": [
    "#GARD.csv d.synonyms has oddly saved string data that cannot be converted directly into a list, this converts that\n",
    "def str2list(string):\n",
    "    string = str(string).replace('[','')\n",
    "    string = string.replace(']','')\n",
    "    string = string.strip()\n",
    "    str_list = string.split(',')\n",
    "    for s in str_list:\n",
    "        s = s.strip()\n",
    "        if s=='nan':\n",
    "            str_list.remove('nan')\n",
    "    return str_list"
   ]
  },
  {
   "cell_type": "code",
   "execution_count": 5,
   "metadata": {},
   "outputs": [],
   "source": [
    "#Convert d.synonym strings into lists\n",
    "i=0\n",
    "for i in range(len(df['d.synonyms'])):\n",
    "    df['d.synonyms'][i] = str2list(df['d.synonyms'][i])"
   ]
  },
  {
   "cell_type": "code",
   "execution_count": 6,
   "metadata": {},
   "outputs": [],
   "source": [
    "#Set up a new & easier to use df, with just id and list of names\n",
    "df_names = pd.DataFrame(df['d.gard_id'],columns=['d.gard_id','d.names'])\n",
    "\n",
    "rowlist = []\n",
    "i=0\n",
    "for i in range(len(df)):\n",
    "    columnlist=[]\n",
    "    columnlist.append(df['d.name'][i])\n",
    "    columnlist+=df['d.synonyms'][i]\n",
    "    rowlist.append(columnlist)\n",
    "df_names['d.names'] = rowlist"
   ]
  },
  {
   "cell_type": "code",
   "execution_count": 7,
   "metadata": {
    "scrolled": true
   },
   "outputs": [
    {
     "data": {
      "text/html": [
       "<div>\n",
       "<style scoped>\n",
       "    .dataframe tbody tr th:only-of-type {\n",
       "        vertical-align: middle;\n",
       "    }\n",
       "\n",
       "    .dataframe tbody tr th {\n",
       "        vertical-align: top;\n",
       "    }\n",
       "\n",
       "    .dataframe thead th {\n",
       "        text-align: right;\n",
       "    }\n",
       "</style>\n",
       "<table border=\"1\" class=\"dataframe\">\n",
       "  <thead>\n",
       "    <tr style=\"text-align: right;\">\n",
       "      <th></th>\n",
       "      <th>d.gard_id</th>\n",
       "      <th>d.names</th>\n",
       "    </tr>\n",
       "  </thead>\n",
       "  <tbody>\n",
       "    <tr>\n",
       "      <th>6056</th>\n",
       "      <td>GARD:0013731</td>\n",
       "      <td>[T-cell prolymphocytic leukemia, T Cell Prolym...</td>\n",
       "    </tr>\n",
       "    <tr>\n",
       "      <th>6057</th>\n",
       "      <td>GARD:0013735</td>\n",
       "      <td>[Spastic paraplegia 47]</td>\n",
       "    </tr>\n",
       "    <tr>\n",
       "      <th>6058</th>\n",
       "      <td>GARD:0013737</td>\n",
       "      <td>[AP-4-Associated Hereditary Spastic Paraplegia...</td>\n",
       "    </tr>\n",
       "    <tr>\n",
       "      <th>6059</th>\n",
       "      <td>GARD:0013743</td>\n",
       "      <td>[Multicentric osteolysis, nodulosis and arthro...</td>\n",
       "    </tr>\n",
       "    <tr>\n",
       "      <th>6060</th>\n",
       "      <td>GARD:0013818</td>\n",
       "      <td>[Sphingosine phosphate lyase insufficiency syn...</td>\n",
       "    </tr>\n",
       "  </tbody>\n",
       "</table>\n",
       "</div>"
      ],
      "text/plain": [
       "         d.gard_id                                            d.names\n",
       "6056  GARD:0013731  [T-cell prolymphocytic leukemia, T Cell Prolym...\n",
       "6057  GARD:0013735                            [Spastic paraplegia 47]\n",
       "6058  GARD:0013737  [AP-4-Associated Hereditary Spastic Paraplegia...\n",
       "6059  GARD:0013743  [Multicentric osteolysis, nodulosis and arthro...\n",
       "6060  GARD:0013818  [Sphingosine phosphate lyase insufficiency syn..."
      ]
     },
     "execution_count": 7,
     "metadata": {},
     "output_type": "execute_result"
    }
   ],
   "source": [
    "df_names.tail()"
   ]
  },
  {
   "cell_type": "code",
   "execution_count": 8,
   "metadata": {
    "scrolled": true
   },
   "outputs": [
    {
     "name": "stdout",
     "output_type": "stream",
     "text": [
      "[['Syngnathia cleft palate'], ['ROHHAD', 'Rapid-onset obesity with hypothalamic dysfunction', ' hypoventilation and autonomic dysregulation'], ['Infantile digital fibromatosis', 'IDF', 'Asymptomatic nodular proliferation of fibrous tissue on the dorsal and lateral aspects of the fingers or toes'], ['Spastic tetraplegia-thin corpus callosum-progressive postnatal microcephaly syndrome', 'ASCT1 deficiency', 'Spastic quadriplegia-thin corpus callosum-progressive postnatal microcephaly syndrome', 'Spastic tetraplegia', ' thin corpus callosum', ' and progressive microcephaly', 'SPATCCM'], ['Cardiac rupture'], ['Megalocytic interstitial nephritis', 'Interstitial megalocytic nephritis', 'Transplant megalocytic interstitial nephritis (type)'], ['Adenylosuccinase deficiency', 'Adenylosuccinate lyase deficiency', 'ADSL deficiency'], ['Say syndrome', 'Cleft palate large ears small head', 'Cleft palate', ' microcephaly', ' large ears', ' and short stature', 'Say Barber Hobbs syndrome'], ['Spinal muscular atrophy type 3', 'SMA3', 'Muscular atrophy', ' juvenile', 'SMA 3', 'Kugelberg-Welander syndrome', 'KWS', 'Spinal muscular atrophy', ' mild childhood and adolescent form'], ['Acute zonal occult outer retinopathy', 'AZOOR'], [\"Asherman's syndrome\", 'Asherman syndrome', 'Intrauterine synechiae', 'Uterine synechiae'], ['21-hydroxylase deficiency', 'Congenital adrenal hyperplasia due to 21-hydroxylase deficiency', 'CYP21 deficiency', '21 hydroxylase deficiency', 'Adrenal hyperplasia', ' congenital', ' due to 21-hydroxylase deficiency'], ['Amyotrophic lateral sclerosis type 10', 'Amyotrophic lateral sclerosis 10', 'ALS10'], ['Pneumocystosis'], ['Gingival fibromatosis with distinctive facies', 'Gingival fibromatosis with craniofacial dysmorphism'], ['Fatty acid hydroxylase-associated neurodegeneration', 'FAHN', 'Spastic paraplegia 35', ' autosomal recessive', 'SPG35'], ['Spinocerebellar ataxia autosomal recessive 4', 'SCAR4', 'Spinocerebellar ataxia with saccadic intrusions', 'SCASI', 'Spinocerebellar ataxia 24 (formerly)'], ['Deafness, autosomal dominant nonsyndromic sensorineural 53', 'DFNA53'], ['Fucosidosis', 'Alpha-l-fucosidase deficiency', 'Lysosomal storage disease caused by defective alpha-L-fucosidase with accumulation of fucose in the tissues'], ['Intravenous leiomyomatosis'], ['Deafness, autosomal dominant nonsyndromic sensorineural 23', 'DFNA 23'], ['Larsen syndrome', 'LRS', 'Autosomal dominant Larsen syndrome'], ['X-linked Charcot-Marie-Tooth disease type 3', 'CMTX 3', 'Charcot Marie Tooth disease X-linked recessive 3', 'Charcot-Marie-Tooth disease', ' X-linked recessive', ' 3'], ['MYH9 related thrombocytopenia', 'MYH9 related disorders', 'Sebastian syndrome (subtype)', 'May-Hegglin anomaly (subtype)', 'Fechtner syndrome (subtype)', 'Epstein syndrome (subtype)', 'Macrothrombocytopenia and granulocyte inclusions with or without nephritis or sensorineural hearing loss', 'MYH9-RD', 'MYH9-related disease', 'MYH9-related disorder', 'MYH9-related syndrome', 'MYH9-related syndromic thrombocytopenia'], ['Graham-Cox syndrome', 'Agenesis of the corpus callosum-intellectual disability-coloboma-micrognathia syndrome', 'Corpus callosum', ' agenesis of', ' with mental retardation', ' ocular coloboma and micrognathia', 'MENTAL RETARDATION', ' X-LINKED', ' SYNDROMIC 28', 'Corpus callosum agenesis-intellectual disability-coloboma-micrognathia syndrome'], ['Retinitis Pigmentosa 7', 'RP 7'], ['Fryns smeets thiry syndrome'], ['Neonatal herpes', 'Neonatal herpes simplex virus infection', 'Neonatal HSV infection'], ['Gyrate atrophy of choroid and retina', 'Ornithine aminotransferase deficiency', 'Ornithine ketoacid aminotransferase deficiency', 'Gyrate atrophy', 'OAT deficiency', 'OKT deficiency', 'Hyperornithinemia with gyrate atrophy of choroid and retina', 'HOGA', 'Girate atrophy of the retina', 'Hyperornithinemia', 'Fuchs atrophia gyrata chorioideae et retinae', 'Hyperornithinemia-gyrate atrophy of choroid and retina syndrome'], ['Schrander-Stumpel Theunissen Hulsmans syndrome', 'Vitiligo', ' psychomotor retardation', ' cleft palate and facial dysmorphism', 'Vitiligo vulgaris', ' cleft palate', ' somatic and psychomotor retardation and facial dysmorphism'], ['Lesch Nyhan syndrome', 'LNS', 'HPRT deficiency', ' complete', 'Lesch-Nyhan syndrome', 'Lesch Nyhan disease', 'Choreoathetosis self-mutilation syndrome', 'Complete HPRT deficiency complete', 'Hypoxanthine-guanine phosphoribosyltransferase deficiency'], ['Urachal cyst'], ['Anterior ischemic optic neuropathy', 'AION', 'Ischemic optic neuropathy'], ['Ben Ari Shuper Mimouni syndrome', 'Agenesis of corpus callosum with double urinary collecting system', ' trigonocephaly and minor anomalies'], ['Short stature syndrome, Brussels type', 'Familial short stature with facial dysmorphism and osteochondrodysplastic lesions', 'Mievis Verellen-Dumoulin syndrome'], ['Idiopathic inflammatory myopathy', 'Idiopathic inflammatory myopathy', ' familial', 'IIM', 'Myositis', 'Idiopathic inflammatory myositis', 'IMM'], ['Pierson syndrome', 'Microcoria - congenital nephrotic syndrome', 'Microcoria - congenital nephrosis'], ['Kuster syndrome', 'Cleft lip palate lip pits limb deficiency', 'Cleft lip and palate', ' lower lip pits', ' and limb deficiency defects'], ['Lubinsky syndrome', 'Hypogonadism cataract syndrome', 'Cataracts and testicular failure'], ['CoQ-responsive OXPHOS deficiency'], ['Lung agenesis', 'Unilateral lung agenesis', 'Congenital lung agenesis', 'Pulmonary agenesis', 'Unilateral lobar pulmonary agenesis'], ['Tetraploidy', 'Tetraploidy syndrome'], ['Kyphoscoliotic Ehlers-Danlos syndrome', 'Ehlers-danlos syndrome oculoscoliotic type', 'EDS 6  (formerly)', 'Ehlers-Danlos syndrome type 6 (formerly)', 'Nevo syndrome', 'EDS VIA', 'EDS', ' kyphoscoliotic type', 'EDS', ' oculoscoliotic type', 'Ehlers-Danlos syndrome type 6A (formerly)', 'Ehlers-Danlos syndrome', ' kyphoscoliotic type', 'Ehlers-Danlos syndrome', ' oculoscoliotic type', 'Ehlers-Danlos syndrome', ' kyphoscoliosis type', 'Kyphoscoliotic EDS', 'kEDS', 'Ehlers-Danlos syndrome type 6A', 'Cutis hyperelastica', 'kEDS-PLOD1', 'Kyphoscoliotic EDS due to lysyl hydroxylase 1 deficiency', 'Kyphoscoliotic Ehlers-Danlos syndrome due to lysyl hydroxylase 1 deficiency', 'Lysyl hydroxylase-deficient EDS', 'Ocular-scoliotic EDS'], ['Hypochondroplasia', 'HCH'], ['Li-Fraumeni syndrome', 'Sarcoma family syndrome of Li and Fraumeni', 'SBLA syndrome (Sarcoma', ' Breast', ' Leukemia', ' and Adrenal Gland)', 'LFS1', 'Li Fraumeni syndrome'], ['Adnexal spiradenoma/cylindroma of a sweat gland', 'Adnexal sweat gland spiradenoma/cylindroma'], ['Xanthogranulomatous cholecystitis', 'CX'], ['Granuloma annulare'], ['Ataxia with oculomotor apraxia type 1', 'EAOH', 'Ataxia-oculomotor apraxia 1', 'AOA1', 'Ataxia-telangiectasia-like syndrome', 'Early-onset cerebellar ataxia with hypoalbuminemia', 'EOCA-HA', 'Early-onset ataxia with oculomotor apraxia and hypoalbuminemia', 'Ataxia-oculomotor apraxia type 1'], ['Exstrophy of the bladder', 'Bladder exstrophy'], ['Subacute cerebellar degeneration', 'Cerebellar degeneration', ' subacute', 'SCD', 'Alcoholic cerebellar degeneration', 'Nutritional cerebellar degeneration'], ['Barraquer-Simons syndrome', 'APL', 'Lipodystrophy partial acquired', 'Lipodystrophy cephalothoracic type', 'Lipodystophy partial progressive'], ['Ogilvie syndrome', \"Ogilvie's syndrome\", 'Acute colonic ileus', 'Acute colonic pseudo-obstruction', 'ACPO'], ['Vascular Ehlers-Danlos syndrome', 'Ehlers Danlos syndrome', ' ecchymotic type', 'Ehlers Danlos syndrome', ' arterial type', 'Ehlers Danlos syndrome', ' Sack-Barabas type', 'EDS4 (formerly)', 'Ehlers-Danlos syndrome type 4 (formerly)', 'EDS IV (formerly)', 'EDS type 4 (formerly)', 'Ehlers-Danlos syndrome type IV (formerly)', 'Sack-Barabas syndrome', 'Ehlers-Danlos syndrome', ' vascular type', 'Vascular EDS', 'vEDS', 'EDS IV', 'EDS type 4', 'Ehlers-Danlos syndrome type 4', 'Ehlers-Danlos syndrome type IV', 'Arterial-ecchymotic EDS'], ['Thyroid cancer, medullary', 'Thyroid carcinoma', ' medullary', 'Medullary thyroid cancer (MTC)'], ['Malignant germ cell tumor'], ['Wilson disease', 'Hepatolenticular degeneration', 'WND', 'WD'], ['Thiamine responsive megaloblastic anemia syndrome', 'Thiamine-responsive anemia syndrome', 'TRMA', 'Megaloblastic anemia thiamine-responsive with diabetes mellitus and sensorineural deafness', 'Rogers syndrome', 'Thiamine-responsive myelodysplasia'], ['Methylmalonic acidemia without homocystinuria', 'Methylmalonic aciduria without homocystinuria'], ['Nephrosclerosis'], ['Clasped thumbs, congenital', 'Adducted thumbs syndrome'], ['Lymphangiectasis', 'Lymphangiectasia'], ['Mitral regurgitation, conductive deafness, and fusion of cervical vertebrae and of carpal and tarsal bones', 'Forney Robinson Pascoe syndrome', 'Congenital heart disease', ' deafness', ' and skeletal malformations', 'Cardiospondylocarpofacial syndrome'], ['Retinal cone dystrophy 4', 'RCD4'], ['Stiff person syndrome', 'Stiff man syndrome', 'Morsch Woltman syndrome', 'SPS', 'Stiff person syndrome and related disorders', 'Moersch-Woltman syndrome', 'SMS'], ['Levotransposition of the great arteries'], ['Familial hypersecretion of adrenal androgens', 'Hypersecretion of adrenal androgens', ' familial'], ['Biemond syndrome', 'Brachydactyly', ' nystagmus and cerebellar ataxia', 'Brachydactyly - nystagmus - cerebellar ataxia', 'Brachydactyly-nystagmus-cerebellar ataxia syndrome'], ['Syngnathia multiple anomalies'], ['Muscle eye brain disease', 'MEB', 'Muscle-eye-brain disease', 'Muscular dystrophy-dystroglycanopathy congenital with brain and eye anomalies A3'], ['Pyridoxine-dependent epilepsy', 'Pyridoxine dependency', 'Pyridoxine dependency with seizures', 'Vitamin B6-dependent seizures', 'Antiquitin deficiency'], ['West Nile virus infection'], ['Primary malignant melanoma of the conjunctiva'], ['Q fever', 'Q fever pneumonia', 'Coxiella Burnetii fever', 'Query fever'], ['Autosomal dominant optic atrophy plus syndrome', 'Dominant optic atrophy', ' deafness', ' ptosis', ' ophthalmoplegia', ' dystaxia', ' and myopathy', 'OPTIC ATROPHY WITH OR WITHOUT DEAFNESS', ' OPHTHALMOPLEGIA', ' MYOPATHY', ' ATAXIA', ' AND NEUROPATHY', 'DOMINANT OPTIC ATROPHY PLUS SYNDROME', 'Treft-Sanborn-Carey syndrome', 'Optic atrophy - deafness- polyneuropathy - myopathy', 'Optic atrophy-deafness-polyneuropathy-myopathy syndrome'], ['Trichoscyphodysplasia', 'Metaphyseal chondrodysplasia with cone-shaped epiphyses and alopecia', 'Metaphyseal chondrodysplasia with ectodermal dysplasia', 'Cupped metaphyses and cone-shaped epiphyses with alopecia'], ['Simian B virus infection'], ['Brain tumor, childhood'], ['Christian Johnson Angenieta syndrome'], ['Medrano Roldan syndrome'], ['Citrullinemia type I', 'Classic citrullinemia', 'Argininosuccinate synthetase deficiency', 'CTNL1', 'Citrullinuria', 'ASS deficiency', 'Citrullinemia 1'], ['Baritosis', 'Inhalation of barytes', 'Deposition of barium in the lungs'], ['Ribbing disease', 'Multiple diaphyseal sclerosis', 'Diaphyseal sclerosis', ' multiple', 'Hereditary multiple diaphyseal sclerosis'], ['Craniosynostosis Fontaine type'], ['PARC syndrome', 'Poikiloderma', ' Alopecia', ' Retrognathism', ' and Cleft palate'], ['Idiopathic hypersomnia', 'Idiopathic hypersomnolence', 'Primary hypersomnia'], ['Autosomal recessive palmoplantar keratoderma and congenital alopecia', 'Cataract', ' alopecia', ' sclerodactyly syndrome', 'CASS', 'Cataract', ' alopecia', ' sclerodactyly'], ['Corneal dystrophy pigmentary anomaly malabsorption'], ['Phacomatosis pigmentovascularis', 'Association of cutaneous vascular malformations and different pigmentary disorders', 'PPV', 'Phakomatosis pigmentovascularis'], ['Chromosome 5p deletion', 'Deletion 5p', 'Monosomy 5p', '5p deletion', '5p monosomy', 'Partial monosomy 5p'], ['Familial osteochondritis dissecans', 'Osteochondritis dissecans', ' short stature', ' and early-onset osteoarthritis'], ['Distal renal tubular acidosis with hemolytic anemia', 'RENAL TUBULAR ACIDOSIS', ' DISTAL', ' WITH NORMAL RED CELL MORPHOLOGY', ' INCLUDED'], ['Congenital varicella syndrome', 'Fetal effects of Chickenpox', 'Fetal varicella infection', 'Fetal varicella zoster syndrome', 'Fetal effects of varicella zoster virus', 'Varicella Embryopathy', 'Varicella virus antenatal infection'], ['Congenital hepatic fibrosis'], ['Cauda equina syndrome'], ['Brittle diabetes', 'Labile diabetes', 'Brittle diabetes mellitus', 'Brittle type 1 diabetes'], ['Ringed hair disease', 'Pilli Annulati'], ['Hypothyroidism due to iodide transport defect'], ['Stocco dos Santos syndrome', 'X-linked intellectual disability', ' Stocco Dos Santos type'], ['Late-onset localized junctional epidermolysis bullosa-intellectual disability syndrome', 'Epidermolysis bullosa simplex localisata associated with anodontia', ' hair and nail disorders'], ['MYD88 deficiency', 'Pyogenic bacterial infections due to MyD88 deficiency', 'Bacterial susceptibility due to TLR signaling pathway deficiency'], ['Craniosynostosis arthrogryposis cleft palate'], ['Syndactyly Cenani Lenz type', 'Cenani-Lenz type syndactyly', 'Cenani syndactylism', 'Syndactyly type 7'], ['Atrial septal defect sinus venosus', 'Sinus venosus atrial septal defects', 'Sinus venosus ASD'], ['Halal syndrome', 'Microcephaly cleft palate autosomal dominant'], ['Angioimmunoblastic lymphadenopathy with dysproteinemia', 'Angioimmunoblastic with dysproteinemia lymphadenopathy'], ['Methimazole antenatal exposure', 'Methimazole embryofetopathy', 'Methimazole/carbimazole embryofetopathy', 'Methimazole/carbimazole embryopathy', 'Fetal methimazole syndrome'], ['Dissociative seizures', 'Psychogenic nonepileptic seizures', 'Psychogenic seizures', 'Pseudoseizures', 'Functional seizures', 'Non-epileptic attack disorder (NEAD)', 'PNES'], ['COASY Protein-Associated Neurodegeneration ', 'CoPAN', 'NBIA6', 'Neurodegeneration with brain iron accumulation due to COASY mutation', 'Neurodegeneration with brain iron accumulation 6'], ['Factor X deficiency', 'Factor X deficiency', ' congenital', 'Stuart factor deficiency', ' congenital', 'Stuart-Prower factor deficiency', 'F10 deficiency'], ['Dandy-Walker malformation with sagittal craniosynostosis and hydrocephalus', 'Sagittal craniosynostosis', ' Dandy-Walker malformation and hydrocephalus', 'Craniosynostosis-Dandy-Walker malformation-hydrocephalus syndrome', 'Braddock-Jones-Superneau syndrome'], ['Pierre Robin sequence', 'Pierre-Robin syndrome', 'Glossoptosis', ' micrognathia', ' and cleft palate'], ['Proliferative verrucous leukoplakia'], ['Nguyen syndrome', 'MCA/MR syndrome with hypocholesterolemia due to familial hypobetalipoproteinemia'], ['N acetyltransferase deficiency', 'N acetyltransferase 1 deficiency', 'NAT1 deficiency', 'Arylamine n-acetyltransferase 1', 'Acetyl-CoA:arylamine n-acetyltransferase'], ['Charcot-Marie-Tooth disease type 2K', 'CMT 2K', 'Charcot-Marie-Tooth disease', ' axonal', ' Type 2K', 'Charcot-Marie-Tooth disease', ' axonal', ' autosomal recessive', ' Type 2K', 'Charcot Marie Tooth disease type 2K'], ['Acrodysostosis', 'Arkless-Graham syndrome', 'Maroteaux-Malamut syndrome', 'Acrodysplasia', 'Nasal hypoplasia-peripheral dysostosis-intellectual disability syndrome', 'Peripheral dysostosis-nasal hypoplasia-intellectual disability (PNM) syndrome'], ['Scurvy', 'Vitamin C deficiency', 'Deficiency of vitamin C', 'Scorbutus', 'Hypoascorbemia'], ['2-Hydroxyglutaric aciduria'], ['Optic atrophy polyneuropathy deafness', 'Optic atrophy', ' hearing loss', ' and peripheral neuropathy', ' autosomal recessive', 'Optic atrophy', ' neural deafness', ' and distal neurogenic amyotrophy'], ['Herpes zoster oticus', 'Ramsay Hunt syndrome type 2 (formerly)', \"Hunt's syndrome (formerly)\", 'Hunt syndrome (formerly)', 'Ramsay Hunt syndrome', 'Facial nerve palsy due to herpes zoster infection', 'Facial nerve palsy due to VZV', 'Facial nerve paralysis due to VZV', 'Geniculate neuralgia', 'Nervus intermedius neuralgia'], ['Primary orthostatic tremor', 'OT', 'Shaky leg syndrome', 'Orthostatic tremor', ' primary', 'POT'], ['Nephrosis deafness urinary tract digital malformation', 'Nephrosis with deafness and urinary tract and digital malformations'], ['Ring chromosome 4', 'Chromosome 4 ring', 'Ring 4', 'R4'], ['Tight skin contracture syndrome, lethal', 'Hyperkeratosis-contracture syndrome', 'Restrictive dermopathy', ' lethal', 'Fetal hypokinesia sequence due to restrictive dermopathy'], ['Citrulline transport defect'], ['Osteodysplasia familial Anderson type'], ['Dendritic cell, monocyte, B lymphocyte, and natural killer lymphocyte deficiency', 'DCML', 'Monocytopenia and mycobacterial infection syndrome', 'MONOMAC', 'Monocytopenia with susceptibility to mycobacterial', ' fungal', ' and papillomavirus infections and myelodysplasia', 'Combined immunodeficiency with susceptibility to mycobacterial', ' viral', ' and fungal infections', 'Monocytopenia with susceptibility to infections', 'Monocyte - B - natural killer - dendritic cell deficiency'], ['Osteogenesis imperfecta type VII', 'OI type 7', 'OI type VII'], ['Pseudohypoparathyroidism type 1A', 'PHP1A', 'Albright hereditary osteodystrophy with multiple hormone resistance'], ['Siegler Brewer Carey syndrome', 'Fatal multisystem syndrome involving the eyes', ' ears', ' lungs', ' intestines', ' and kidneys'], ['Transient global amnesia'], ['Lactate dehydrogenase deficiency'], ['Delayed membranous cranial ossification', 'Gonzales-del Angel syndrome'], ['Neuroectodermal endocrine syndrome'], ['Long QT syndrome 6', 'LQT6'], ['Verloove Vanhorick Brubakk syndrome', 'Cleft Limb Heart Malformation Syndrome', 'CLH Syndrome'], ['Cold-induced sweating syndrome', 'Muscle contractions', ' tetanoform', ' with characteristic face', ' camptodactyly', ' hyperthermia', ' and sudden death', 'Crisponi syndrome', 'CNTF receptor-related disorders', 'Sohar-Crisponi syndrome', 'CISS'], ['Preaxial deficiency, postaxial polydactyly and hypospadias', 'Guttmacher syndrome', 'Autosomal dominant preaxial deficiency', ' postaxial polydactyly', ' and hypospadias'], ['5-Nucleotidase syndrome', \"5'NT syndrome\"], ['Aniridia renal agenesis psychomotor retardation', 'Aniridia partial with unilateral renal agenesis and psychomotor retardation', 'Sommer Rathbun Battles syndrome'], ['Neutrophil-specific granule deficiency', 'Specific granule deficiency', 'Recurrent infection due to specific granule deficiency', 'Lactoferrin-deficient neutrophils', 'Neutrophil lactoferrin deficiency'], ['Nonbullous congenital ichthyosiform erythroderma', 'Ichthyosiform erythroderma', ' congenital', ' nonbullous', ' 1', 'NCIE', 'Ichthyosiform erythroderma', ' Brocq congenital', ' nonbullous form', 'Congenital ichthyosiform erythroderma', 'CIE', 'NBCIE', 'Congenital non-bullous ichthyosiform erythroderma', 'Erythrodermic ichthyosis', 'Non-bullous congenital ichthyosiform erythroderma'], ['Gomez Lopez Hernandez syndrome', 'Cerebellotrigeminal-dermal dysplasia', 'Cerebellotrigeminal dermal dysplasia', 'Gomez-Lopez-Hernández syndrome', 'Cerebellotrigeminal-dermal dysplasia syndrome', 'Craniosynostosis-alopecia-brain defect syndrome'], ['Cerebral palsy ataxic', 'Ataxic cerebral palsy'], ['Barth syndrome', 'BTHS', '3-methylglutaconic aciduria type II', 'MGA type II', 'Cardioskeletal myopathy with neutropenia and abnormal mitochondria', 'TAZ defect'], ['Crawfurd syndrome'], ['PGM3-CDG', 'Phosphoglucomutase 3 deficiency', 'CID due to PGM3 deficiency', 'PGM3-related congenital disorder of glycosylation', 'Combined immunodeficiency due to PGM3 deficiency', 'Immunodeficiency 23', 'Phosphoglucomutase deficiency type 3'], ['Carnosinemia', 'Carnosinase deficiency'], ['Adult-onset immunodeficiency with anti-interferon-gamma autoantibodies', 'Acquired adult-onset immunodeficiency', 'Anti-IFN-gamma autoantibody syndrome', 'Adult-Onset Immunodeficiency with Acquired Anti-Interferon-Gamma Autoantibodies', 'Adult-onset immunodeficiency due to anti-interferon-gamma autoantibody', 'Adult onset immunodeficiency syndrome'], ['Glycogen storage disease type 3', 'Forbes disease', 'Cori disease', 'Limit dextrinosis', 'Amylo-1', '6-glucosidase deficiency', 'Glycogen debrancher deficiency'], ['Papillon Lefevre syndrome', 'Hyperkeratosis palmoplantaris with periodontosis', 'Keratoris palmoplantaris with periodontopathia', 'Palmar-plantar hyperkeratosis and concomitant periodontal destruction', 'Keratosis palmoplantaris with periodontopathia', 'Palmoplantar keratoderma with periodontosis', 'Keratosis palmoplantar - periodontopathy', 'Papillon-Lefèvre syndrome', 'Keratosis palmoplantar-periodontopathy syndrome'], ['Humeroradioulnar synostosis'], ['Hereditary vascular retinopathy', 'HVR'], ['Neuromyelitis optica spectrum disorder', 'Devic syndrome', 'NMO', \"Devic's neuromyelitis optica\", 'Devic disease', 'NMO spectrum disorder', 'Neuromyelitis optica', 'Neuromyelitis optica spectrum disorders'], ['Leigh syndrome', 'LS', 'Subacute necrotizing encephalopathy', 'SNE', 'Necrotizing encephalopathy infantile subacute of Leigh', \"Leigh's necrotizing encephalopathy\", \"Leigh's disease\", 'Infantile subacute necrotizing encephalopathy', 'Leigh disease'], ['Horn Kolb syndrome'], ['Intrauterine growth retardation with increased mitomycin C sensitivity'], ['Immunodeficiency with hyper IgM type 3', 'HIGM3', 'Hyper IgM syndrome 3'], ['Spinocerebellar ataxia autosomal recessive 6', 'SCAR6', 'Cerebellar ataxia infantile nonprogressive autosomal recessive', 'Norwegian infantile onset ataxia'], ['Distal arthrogryposis with hypopituitarism, intellectual disability and facial anomalies', 'Chitayat-Hall syndrome'], ['Cone-rod dystrophy 2', 'CORD2', 'Cone-rod retinal dystrophy 2', 'CRD2', 'Retinal cone-rod dystrophy 2', 'RCRD2'], ['Pulmonary valves agenesis'], ['Holoprosencephaly', 'HPE'], ['Cardioauditory syndrome of Sanchez Cascos', 'Sanchez Cascos cardioauditory syndrome'], ['Deafness, epiphyseal dysplasia, short stature', 'Growth retardation', ' deafness', ' femoral epiphyseal dysplasia', ' and lacrimal duct obstruction', 'Deafness', ' femoral epiphyseal dysplasia', ' short stature and developmental delay', 'Chitty-Hall-Baraitser syndrome'], ['Cystic medial necrosis of aorta', 'Erdheim cystic medial necrosis of aorta', 'Erdheim disease'], ['Human T-cell leukemia virus type 2', 'HTLV-2', 'Human T lymphotropic virus type 2'], ['PROSTAGLANDIN-ENDOPEROXIDE SYNTHASE DEFICIENCY', 'PTGS DEFICIENCY', 'PLATELET CYCLOOXYGENASE DEFICIENCY', 'CYCLOOXYGENASE 1 DEFICIENCY', 'COX1 DEFICIENCY'], ['Cardiomyopathy due to anthracyclines'], ['Frenkel Russe syndrome', 'Retinal telangiectasia associated with hypogammaglobulinemia'], ['Retinitis Pigmentosa 23', 'RP 23'], ['Male pseudohermaphroditism intellectual disability syndrome, Verloes type', 'Verloes syndrome', 'Disorder of sex development intellectual disability', 'Verloes-Gillerot-Fryns syndrome', 'Verloes Gillerot Fryns syndrome'], ['Kaplan Plauchu Fitch syndrome', 'Acrocraniofacial dysostosis'], ['Amebiasis', 'Amoebic dysentery due to Entamoeba histolytica', 'Amoebiasis due to Entamoeba histolytica', 'Amebic dysentery', 'Intestinal amebiasis'], ['Selenium poisoning'], ['Bubonic plague'], ['Brittle bone syndrome lethal type'], ['Progressive external ophthalmoplegia, autosomal recessive 1 ', 'Progressive external ophthalmoplegia with cerebellar ataxia infantile', 'Autosomal recessive progressive external ophthalmoplegia', 'Cerebellar ataxia infantile with progressive external ophthalmoplegia', 'arPEO'], ['Microcephalic osteodysplastic primordial dwarfism type 2', 'MOPD 2', 'MOPD II', 'Osteodysplastic primordial dwarfism type 2', 'Microcephalic osteodysplastic primordial dwarfism with tooth abnormalities', 'Majewski osteodysplastic primordial dwarfism type II'], ['Giant platelet syndrome', 'Bernard-Soulier syndrome', 'BSS', 'Platelet glycoprotein 1b', ' deficiency of', 'Deficiency of platelet glycoprotein 1b', 'Von Willebrand factor receptor deficiency', 'Macrothrombocytopenia', ' familial Bernard-Soulier type', 'Hemorrhagiparous thrombocytic dystrophy', 'Giant platelet disease'], ['Methylmalonic aciduria, cblB type', 'Methylmalonic acidemia cblB type', 'Vitamin B12-responsive methylmalonic aciduria', ' type cblB', 'Vitamin B12-responsive methylmalonic acidemia type cblB', 'METHYLMALONIC ACIDURIA', ' cblB TYPE', 'METHYLMALONIC ACIDEMIA', ' cblB TYPE', 'METHYLMALONIC ACIDURIA', ' VITAMIN B12-RESPONSIVE', ' DUE TO DEFECT IN SYNTHESIS OF ADENOSYLCOBALAMIN', ' cblB TYPE', 'Methylmalonic aciduria cblB type'], ['Infantile onset spinocerebellar ataxia', 'Ophthalmoplegia', ' hypotonia', ' ataxia', ' hypacusis', ' and athetosis', 'OHAHA syndrome', 'IOSCA', 'Spinocerebellar ataxia 8 (formerly)', 'SCA8 (formerly)', 'Spinocerebellar ataxia infantile with sensory neuropathy', 'Ophthalmoplegia - hypotonia - ataxia - hypoacusis - athetosis', 'Ophthalmoplegia-hypotonia-ataxia-hypoacusis-athetosis syndrome'], ['Progressive non-fluent aphasia', 'Non-fluent primary progressive aphasia', 'Non-fluent variant PPA'], ['Spastic diplegia cerebral palsy', 'Cerebral palsy spastic diplegic'], ['Usher syndrome, type 1', 'USH1A', 'Usher syndrome', ' type 1A', 'Usher syndrome', ' type I', ' French variety', 'Retinitis pigmentosa and congenital deafness', 'USH1', 'US1'], ['Superficial siderosis of the central nervous system'], ['Ring chromosome 18', 'Chromosome 18 ring', 'Ring 18', 'R18'], ['Spondylospinal thoracic dysostosis'], ['Zollinger-Ellison syndrome', 'ZES', 'Gastrinoma', 'Pancreatic ulcerogenic tumor syndrome', 'Z E syndrome'], ['Leiomyomatosis, esophageal and vulval, with nephropathy', 'DL-ATS', 'Diffuse leiomyomatosis in Alport syndrome', 'Alport syndrome with diffuse leiomyomatosis', 'ATS-DL'], ['Niemann-Pick disease'], ['Spondyloepimetaphyseal dysplasia Matrilin-3 related', 'SEMD MATN3-related', 'Spondyloepimetaphyseal dysplasia Matrilin-3 type'], ['VACTERL association', 'VATER association'], ['Myotonia congenita', 'Thomsen and Becker disease'], ['Floating-Harbor syndrome', 'Short stature with delayed bone age', ' expressive language delay', ' a triangular face with a prominent nose and deep-set eyes', 'Pelletier-Leisti syndrome', 'FHS'], ['Syndactyly type 3', 'SDTY3', 'Syndactyly of the ring and little finger', 'Syndactyly of fingers four and five', 'Ring and little finger syndactyly'], ['Brachycephalofrontonasal dysplasia', 'Hypertelorism', ' Teebi type', 'Teebi hypertelorism syndrome', 'Craniofrontonasal dysplasia', ' Teebi type'], ['Mullerian aplasia', 'Mayer-Rokitansky-Kuster-Hauser syndrome (MRKH)', 'Congenital absence of the uterus and vagina (CAUV)', 'MRKH syndrome', 'Rokitansky syndrome', 'Mullerian dysgenesis', 'Congenital absence of uterus and vagina', 'Müllerian agenesis', 'Genital renal ear syndrome', 'Mayer-Rokitansky-Küster-Hauser syndrome'], ['Troyer syndrome', 'SPG20', 'Spastic paraparesis', ' childhood-onset', ' with distal muscle wasting', 'Spastic paraplegia', ' autosomal recessive', ' Troyer type', 'Autosomal recessive spastic paraplegia type 20', 'Spastic paraplegia 20', ' autosomal recessive', 'Cross-McKusick syndrome', 'Spastic paraplegia 20'], ['Cerebellar hypoplasia with endosteal sclerosis'], ['Hydroa vacciniforme, familial', 'Familial hydroa vacciniforme'], ['Corneal crystals myopathy neuropathy'], ['Snyder-Robinson syndrome', 'X-linked mental retardation Snyder-Robinson type', 'SRS'], ['Early infantile epileptic encephalopathy-64', 'RHOBTB2-related developmental and epileptic encephalopathy', 'RHOBTB2 missense variants'], ['Primary cutaneous amyloidosis', 'Primary localized cutaneous amyloidosis', 'PLCA', 'Lichen amyloidosis familial', 'Amyloidosis familial cutaneous lichen', 'Amyloidosis 9', 'Amyloidosis IX'], ['Tonoki syndrome', 'Short stature', ' brachydactyly', ' nail dysplasia and mental retardation'], ['Choroideremia hypopituitarism'], ['X-linked dystonia-parkinsonism/Lubag', 'DYT3', 'Dystonia-Parkinsonism', ' X-linked', 'XDP', 'Torsion dystonia-Parkinsonism', ' Filipino type', 'X-Linked Torsion Dystonia-Parkinsonism syndrome', 'X-Linked Dystonia-Parkinsonism syndrome', 'Lubag', 'DYT-TAF1', 'Dystonia 3', ' torsion', ' X-linked'], ['Charcot-Marie-Tooth disease type 4C', 'CMT 4C', 'Charcot Marie Tooth disease type 4C', 'CHARCOT-MARIE-TOOTH DISEASE', ' DEMYELINATING', ' AUTOSOMAL RECESSIVE', ' TYPE 4C', 'CHARCOT-MARIE-TOOTH NEUROPATHY', ' TYPE 4C'], ['X-linked myopathy with excessive autophagy', 'XMEA', 'Myopathy', ' X-linked', ' with excessive autophagy'], ['Childhood Supratentorial Embryonal Tumor, Not Otherwise Specified', 'Supratentorial primitive neuroectodermal tumors', ' childhood', 'Childhood supratentorial primitive neuroectodermal tumors', 'Childhood Supratentorial Embryonal Tumor', ' NOS', 'Childhood Supratentorial PNET', 'Supratentorial Embryonal Tumor', ' NOS'], ['Urogenital adysplasia'], ['Harrod Doman Keele syndrome', 'Harrod syndrome', 'Craniofacial digital genital anomalies'], ['Gestational diabetes insipidus', 'Diabetes insipidus gestational', 'Gestagenic diabetes insipidus'], ['Calvarial hyperostosis', 'Isolated hyperostosis of the calvarium'], ['Phosphoribosylpyrophosphate synthetase superactivity', 'PRPP synthetase deficiency', 'PRPP synthetase superactivity', 'PRPS1 superactivity'], ['Nelson syndrome', 'Dermal Ridges', 'Ridges-off-the-end syndrome'], ['Linear nevus sebaceous syndrome', 'Schimmelpenning Feuerstein Mims syndrome', 'Sebaceous nevus syndrome linear', 'SFM syndrome', 'Jadassohn nevus phakomatosis', 'JNP', 'Nevus sebaceus of Jadassohn', 'Organoid nevus phakomatosis'], ['Al Gazali Aziz Salem syndrome', 'Short stature', ' intellectual disability', ' facial dysmorphism', ' short webbed neck', ' skin changes and congenital heart disease', 'Short stature', ' webbed neck', ' heart disease'], ['Central diabetes insipidus', 'Diabetes insipidus neurogenic', 'Neurohypophyseal diabetes insipidus', 'Pituitary diabetes insipidus', 'Diabetes insipidus neurohypophyseal', 'Diabetes insipidus cranial type', 'Neurogenic diabetes insipidus'], ['Lung adenocarcinoma'], ['Familial cerebral cavernous malformation', 'Familial brain cavernous angioma', 'Familial cerebral cavernoma', 'Familial brain cavernous hemangioma', 'Hereditary brain cavernous hemangioma', 'Hereditary brain cavernous angioma', 'Hereditary cerebral cavernoma', 'Hereditary cerebral cavernous malformation'], ['Congenital vagal hyperreflexivity'], ['Osteoglophonic dysplasia', 'Osteoglophonic dwarfism', 'Fairbank-Keats syndrome', 'OGD'], ['Enchondromatosis dwarfism deafness', 'Wallis cremin beighton syndrome'], ['Spontaneous coronary artery dissection'], ['Calciphylaxis', 'Idiopathic calciphylaxis'], ['Early-onset parkinsonism-intellectual disability syndrome', 'X-linked recessive basal ganglia disorder with mental retardation', 'Laxova Brown Hogan syndrome', 'Waisman syndrome', 'WSN', 'Basal ganglia disorder with mental retardation', 'BGMR', 'Laxova-Opitz syndrome'], ['Cataract skeletal anomalies'], ['Ullrich congenital muscular dystrophy', 'Ullrich disease', 'Ullrich scleroatonic muscular dystrophy', 'UCMD', 'Late onset scleroatonic familial myopathy (subtype)', 'Scleroatonic muscular dystrophy'], ['Pallister-Hall syndrome', 'PHS', 'Hypothalamic hamartoblastoma', ' hypopituitarism', ' imperforate anus', ' and postaxial polydactyly', 'Pallister Hall syndrome'], ['Frontometaphyseal dysplasia'], ['Tarsal carpal coalition syndrome', 'TCC'], ['Cataract, posterior polar, 4', 'CTPP4', 'CPP4', 'Posterior polar cataract', ' 4'], ['Van Buchem disease type 2', 'VBCH2', 'Osteosclerosis of the skull and enlarged mandible'], ['Franceschini Vardeu Guala syndrome'], ['Generalized pustular psoriasis', 'Psoriasis 14', ' pustular', 'GPP'], ['Neurofibroma'], ['Congenital mitral stenosis'], ['Bifid nose', 'Median fissure of nose', 'Nose', ' median cleft of'], ['Coffin-Lowry syndrome', 'Mental retardation with osteocartilaginous abnormalities', 'CLS', 'Coffin syndrome'], ['Albright like syndrome'], ['Pemphigoid gestationis', 'Gestational pemphigoid', 'Herpes gestationis'], ['Peripheral T-cell lymphoma'], ['Chromosome 5q duplication', 'Duplication 5q', 'Trisomy 5q', 'Partial trisomy 5q'], ['Hirschsprung disease ganglioneuroblastoma', 'Neuroblastoma with Hirschsprung disease'], ['Acute monoblastic leukemia', 'Acute myeloblastic leukemia type 5', 'Acute monocytic leukemia', 'AML-M5', 'AML M5'], ['Microcephaly-cardiomyopathy', 'Severe microcephaly with mental retardation and dilated cardiomyopathy', 'Microcephaly-cardiomyopathy syndrome', 'Winship-Viljoen-Leary syndrome', 'Microcephaly with cardiomyopathy', 'Severe microcephaly and self-limiting dilated cardiomyopathy'], ['Tabatznik syndrome', 'Heart-hand syndrome 2'], ['Castleman disease', 'Angiofollicular ganglionic hyperplasia', 'Angiofollicular lymph hyperplasia', 'Giant lymph node hyperplasia', 'Benign giant lymphoma'], ['B-cell lymphoma', 'Lymphoma', ' B-Cell'], ['Camptodactyly-ichthyosis syndrome', 'Camptodactyly ichthyosis syndrome'], ['Linear lichen planus', 'Blaschkoid LP', 'Blaschkoid lichen planus', 'Linear LP', 'LLP'], ['Junctional epidermolysis bullosa with pyloric atresia', 'JEB-PA', 'Epidermolysis bullosa junctionalis with pyloric atresia', 'Junctional epidermolysis bullosa - pyloric atresia', 'Aplasia cutis congenita with gastrointestinal atresia', 'Epidermolysis bullosa with pyloric atresia', 'Carmi syndrome'], ['Lelis syndrome', 'Ectodermal dysplasia', ' hypohidrotic', ' with acanthosis nigricans'], ['Goldenhar disease', 'Goldenhar syndrome', 'Facioauriculovertebral sequence', 'FAv sequence', 'Expanded spectrum of hemifacial microsomia', 'Facioauriculovertebral dysplasia', 'OAV dysplasia', 'OAVS', 'Oculoauriculovertebral dysplasia', 'Oculoauriculovertebral syndrome', 'Expanded spectrum hemifacial microsomia'], ['Cleidocranial dysplasia', 'CLCD', 'Cleidocranial dysostosis', 'Dysplasia cleidocranial', 'Marie-Sainton disease'], ['Central core disease', 'CCD', 'CCO', 'Central core disease of muscle', 'Muscle core disease', 'Muscular central core disease', 'Myopathy', ' central fibrillar', 'Myopathy', ' central core', 'Shy-Magee syndrome'], ['Chromosome 7p deletion', 'Deletion 7p', 'Monosomy 7p', '7p deletion', '7p monosomy', 'Partial monosomy 7p'], ['Familiar or sporadic hemiplegic migraine'], ['Diffuse cutaneous mastocytosis', 'DCM', 'Diffuse cutaneous maculopapulous mastocytosis'], ['Glucagonoma', 'Pancreatic Glucagonoma', 'Glucagonoma syndrome'], ['Chromosome 17p13.1 deletion syndrome', '17p13.1 deletion syndrome', 'Distal 17p13.1 microdeletion syndrome', 'Distal Del(17)(p13.1)'], ['Rozin Hertz Goodman syndrome', 'Camptodactyly', ' joint contractures', ' facial skeletal defects', 'Camptodactyly', ' myopia', ' and fibrosis of the medial rectus muscle of eye'], ['Hypohidrotic ectodermal dysplasia autosomal dominant', 'Ectodermal dysplasia hypohidrotic autosomal dominant'], ['Infantile free sialic acid storage disease', 'Sialuria', ' infantile form', 'Infantile sialic acid storage disorder', 'ISSD'], ['46,XX Gonadal dysgenesis epibulbar dermoid'], ['Genitopatellar syndrome', 'Absent patellae', ' scrotal hypoplasia', ' renal anomalies', ' facial dysmorphism', ' and mental retardation', 'GTPTS', 'Absent patellae-scrotal hypoplasia-renal anomalies-facial dysmorphism-intellectual disability syndrome'], ['Yellow nail syndrome', 'Lymphedema with yellow nails', 'YNS'], ['Catatrichy', 'Forelock'], ['Joubert syndrome with ocular anomalies', 'Joubert syndrome 3', 'JBTS3'], ['Congenital muscular alpha-dystroglycanopathy with brain and eye anomalies', 'Lissencephaly type 2 with muscular and ocular involvement', 'MDDGA'], ['Anaplastic pleomorphic xanthoastrocytoma'], ['Florid papillomatosis of the nipple', 'Papillomatosis florid of nipple', 'Florid papillomatosis', 'Erosive adenomatosis of the nipple'], ['Cleft hand absent tibia', 'Aplasia of tibia with ectrodactyly', 'Tibial aplasia with split-hand/split-foot deformity', 'Ectrodactyly with aplasia of long bones', 'Split-hand/foot malformation with long bone deficiency', 'SHFLD'], ['Anencephaly and spina bifida X-linked', 'X-linked anencephaly/spina bifida'], ['Antisynthetase syndrome', 'Anti-Jo1 syndrome', 'AS syndrome'], ['Cantu Sanchez-Corona Fragoso syndrome', 'Severe mental deficiency proportionate dwarfism and delayed sexual maturation'], ['Mumps'], ['Exostoses, multiple, type 1'], ['Pelger-Huet anomaly', 'PHA', 'Pelger Huet anomaly', 'Pelger-Huet nuclear anomaly', 'Ovoid neutrophil nuclei', ' developmental delay', ' epilepsy and skeletal abnormalities'], ['Charcot-Marie-Tooth disease type 2F', 'CMT 2F', 'Charcot-Marie-Tooth disease', ' axonal', ' Type 2F', 'Charcot-Marie-Tooth disease', ' neuronal', ' Type 2F', 'Charcot Marie Tooth disease type 2F', 'Charcot-Marie-Tooth neuropathy', ' type 2F'], ['Creeping myiasis'], ['Onychodystrophy-anonychia', 'Absent nails and dystrophic nails'], ['Anaplastic oligoastrocytoma'], ['Multiple endocrine neoplasia type 2A', 'Sipple syndrome', 'MEN 2A', 'MEN-2A syndrome', 'Pheochromocytoma and amyloid producing medullary thyroid carcinoma', 'PTC syndrome'], ['Cartwright Nelson Fryns syndrome', 'Growth retardation', ' severe mental retardation', ' acral limb deficiencies with poorly keratinized nails'], ['Trismus-pseudocamptodactyly syndrome', 'Hecht syndrome', 'Dutch-Kentucky syndrome', 'Distal arthrogryposis type 7', 'Arthrogryposis distal type 7'], ['Ring chromosome 16', 'Chromosome 16 ring', 'Ring 16', 'R16'], ['Somatostatinoma', 'Ampullary somatostatinoma', 'Somatomedin-secreting carcinoid', 'Carcinoid somatostatinoma', 'Malignant islet cell tumor', 'Somatostatin-secreting pancreatic neoplasm'], ['Ichthyosis lamellar, autosomal dominant', 'Lamellar ichthyosis', ' autosomal dominant'], ['POLR3-Related Leukodystrophy', 'Pol III-related leukodystrophy', 'Pol III disorder', 'Pol III-related hypomyelinating leukodystrophies', 'Ribonucleic acid polymerase III-related leukodystrophy', 'Hypomyelinating leukodystrophy with or without oligondontia and/or hypogonadism', '4H syndrome', 'Hypomyelination-hypogonadotropic hypogonadism-hypodontia syndrome'], ['Retinitis Pigmentosa 36', 'RP 36'], ['Kallmann syndrome 2', 'KAL2'], ['Imerslund-Grasbeck syndrome', 'IGS', 'Pernicious anemia', ' juvenile', ' due to selective intestinal malabsorption of vitamin B12', ' with proteinuria', 'Enterocyte cobalamin malabsorption', 'Defect of enterocyte intrinsic factor receptor', 'Familial megaloblastic anemia', 'Selective cobalamin malabsorption with proteinuria', 'Gräsbeck-Imerslund disease', 'Megaloblastic anemia 1'], ['Baby rattle pelvic dysplasia'], ['West syndrome', 'Infantile spasm', 'IS', 'X-linked infantile spasm syndrome', 'X-linked infantile spasms', \"West's syndrome\", 'Tonic spasms with clustering', ' arrest of psychomotor development and hypsarrhythmia on EEG'], ['Hereditary geniospasm', 'Trembling chin', 'GSM 1', 'Hereditary chin tremor/myoclonus', 'Geniospasm'], ['Hernández-Aguirre Negrete syndrome', 'Intellectual disability-epilepsy-bulbous nose syndrome'], ['Ring chromosome 11', 'Chromosome 11 ring', 'Ring 11', 'R11'], ['Poikiloderma with neutropenia', 'Poikiloderma with neutropenia Clericuzio type', 'Clericuzio type poikiloderma with neutropenia'], ['Fibromatosis multiple non ossifying', 'Jaffe Campanacci syndrome', 'Disseminated nonossifying fibromas in association with cafe-au-lait spots'], ['Opsismodysplasia'], ['Deafness conductive stapedial ear malformation facial palsy'], ['Cystoisosporiasis', 'Isosporiasis'], ['Emerinopathy'], ['Hurler syndrome', 'Mucopolysaccharidosis Ih', 'MPS1-H', 'MPS1H', 'Mucopolysaccharidosis type 1H', 'Mucopolysaccharidosis type IH', 'Hurler disease', 'MPSIH'], ['Mietens-Weber syndrome', 'Mental retardation syndrome', ' Mietens Weber type', 'Corneal opacity', ' nystagmus', ' flexion contracture of the elbows', ' growth failure', ' and mental retardation', 'Intellectual disability', ' Mietens-Weber type', 'Mietens syndrome'], ['Chromosome 2p deletion', 'Deletion 2p', 'Monosomy 2p', '2p deletion', '2p monosomy', 'Partial monosomy 2p'], ['Coxa vara, congenital'], ['Duodenal atresia tetralogy of Fallot'], ['COG5-CDG (CDG-IIi)', 'CDG IIi', 'COG5-CDG (CDG-Iii).', 'CDG syndrome type IIi', 'CDG-IIi', 'CDG2I', 'Carbohydrate deficient glycoprotein syndrome type IIi', 'Congenital disorder of glycosylation type IIi', 'CONGENITAL DISORDER OF GLYCOSYLATION', ' TYPE IIi', 'COG5-CDG', 'Congenital disorder of glycosylation type 2i'], ['Familial infantile convulsions and paroxysmal choreoathetosis', 'ICCA', 'Convulsions', ' infantile', ' with paroxysmal choreoathetosis', ' familial', 'ICCA syndrome'], ['Glucose-6-phosphate dehydrogenase deficiency', 'G6PD deficiency', 'Hemolytic anemia due to G6PD deficiency'], ['Retinitis Pigmentosa 34', 'RP 34'], ['Aminoaciduria'], ['Heterotaxy', 'Heterotaxia', 'Heterotaxy syndrome', 'Visceral heterotaxy', 'Lateralization defect', 'Situs ambiguous', 'Situs ambiguus'], ['Polymorphic reticulosis', 'PR', 'NK-cell malignancy'], ['Testotoxicosis', 'Precocious puberty', ' male limited', 'Sexual precocity', ' familial', ' gonadotropin-independent', 'Pubertas Praecox', 'Familial Testotoxicosis (subtype)'], ['Feingold syndrome', 'Oculodigitoesophagoduodenal syndrome', 'Brunner-Winter syndrome', 'ODED syndrome', 'Microcephaly-oculo-digito-esophageal-duodenal syndrome', 'Digital anomalies with short palpebral fissures and atresia of esophagus', ' or duodenum', 'MMT syndrome'], ['Familial reactive perforating collagenosis', 'Inherited reactive perforating collagenosis'], ['Metaplastic carcinoma of the breast', 'Metaplastic breast cancer'], ['Bilateral perisylvian polymicrogyria', 'Perisylvian syndrome', 'Polymicrogyria', ' bilateral perisylvian', 'Congenital bilateral perisylvian syndrome', 'CBPS', 'Perisylvian syndrome', ' congenital bilateral', 'PMGX'], ['COG8-CDG (CDG-IIh)', 'Congenital disorder of glycosylation', ' type IIh', 'CDG syndrome type IIh', 'CDG-IIh', 'CDG2H', 'Carbohydrate deficient glycoprotein syndrome type IIh', 'Congenital disorder of glycosylation type 2h', 'Congenital disorder of glycosylation type IIh', 'CDG IIh', 'COG8-CDG'], ['Coloboma of alar-nasal cartilages with telecanthus', 'Frontonasal dysplasia with alar clefts'], ['King Denborough syndrome', 'Anesthetic-induced malignant hyperpyrexia in children', 'King syndrome'], ['Frontonasal dysplasia', 'Median facial cleft syndrome', 'Median cleft syndrome', 'Median cleft face syndrome'], ['Cataract and congenital ichthyosis', 'Syndermotic cataract and congenital ichthyosis'], ['Cormier Rustin Munnich syndrome'], ['Al Gazali Sabrinathan Nair syndrome', 'Osteogenesis imperfecta retinopathy seizures intellectual deficit', 'Al Gazali-Nair syndrome'], ['Aortic arch interruption'], ['Bowenoid papulosis', 'BP'], ['Reactive angioendotheliomatosis', 'RAE'], ['Odontogenic myxoma'], ['Glutaric acidemia type I', 'Glutaric acidemia type 1', 'Glutaric acidemia 1', 'Glutaric aciduria 1', 'GA 1', 'Glutaryl-CoA dehydrogenase deficiency'], ['Blepharophimosis, ptosis, and epicanthus inversus syndrome'], ['Scleromyxedema', 'Arndt-Gottron disease', 'Generalized lichenoid papular eruption', 'Generalized papular and sclerodermoid', 'Generalized papular and sclerodermoid lichen myxedematosus'], ['Renal rickets'], ['Acoustic neuroma', 'Acoustic neurilemoma', 'Acoustic neurinoma', 'Cerebellopontine angle tumor', 'Vestibular schwannoma', 'Neurinoma of the acoustic nerve', 'Acoustic tumor'], ['Trichohepatoenteric syndrome', 'Phenotypic diarrhea', 'SD/THE', 'Syndromatic diarrhea', 'Syndromic diarrhea', 'Syndromic diarrhea/Tricho-hepato-enteric syndrome', 'Tricho-hepato-enteric syndrome'], ['Rhizomelic chondrodysplasia punctata', 'RCDP', 'Rhizomelic chondrodysplasia punctata'], ['Microcephalic osteodysplastic primordial dwarfism type 1', 'MOPD 1', 'Microcephalic osteodysplastic primordial dwarfism types 1 and 3', 'Osteodysplastic primordial dwarfism type I', 'Brachymelic primordial dwarfism', 'Taybi-Linder syndrome', 'Primordial microcephalic dwarfism', ' Crachami type', 'Cephaloskeletal dysplasia', 'Low-birth-weight dwarfism with skeletal dysplasia'], ['Acromelanosis', 'Progressive acromelanosis'], ['Stankiewicz-Isidor syndrome'], ['Pulmonary hypoplasia, familial primary'], ['Marcus Gunn phenomenon', 'Jaw-winking', 'Maxillopalpebral synkinesis', 'Familial Marcus Gunn phenomenon (subtype)', 'Marcus Gunn syndrome'], ['Annular pancreas', 'Pancreas', ' annular'], ['Autosomal dominant tubulointerstitial kidney disease due to MUC1 mutations', 'Medullary cystic kidney disease 1 (former)', 'Mucin-1 kidney disease', 'ADTKD due to MUC1 mutations', 'ADTKD-MUC1', 'MCKD1', 'Medullary cystic kidney disease type 1', 'MUC1-related autosomal dominant medullary cystic kidney disease', 'MUCI-related ADTKD', 'Autosomal dominant tubulointerstitial kidney disease', ' MUC1-associated', 'MUC1-related autosomal dominant tubulointerstitial kidney disease'], ['Trigonobrachycephaly, bulbous bifid nose, micrognathia, and abnormalities of the hands and feet', 'Trigonobrachycephaly', ' bulbous bifid nose', ' macrostomia', ' micrognathia', ' acral anomalies', ' and hypotonia', 'Trigonocephaly - bifid nose - acral anomalies'], ['Trehalase deficiency', 'Trehalose intolerance'], ['Aminolevulinate dehydratase deficiency porphyria', '5-Aminolevulinic acid dehydratase deficiency porphyria', 'ALA dehydratase deficiency pophyria'], ['Chromosome 5q deletion', 'Deletion 5q', 'Monosomy 5q', '5q deletion', '5q monosomy', 'Partial monosomy 5q'], ['Yellow fever', 'YF'], ['IRF6-Related disorders'], ['Idiopathic intracranial hypertension', 'Intracranial hypertension', ' idiopathic', 'Pseudotumor cerebri', 'IIH'], ['Ichthyosis with hypotrichosis, autosomal recessive', 'ARIH', 'Autosomal recessive ichthyosis with hypotrichosis'], ['Rhizomelic chondrodysplasia punctata type 2', 'RCDP2', 'Dihydroxyacetonephosphate acyltransferase deficiency', 'DHAPAT deficiency', 'Peroxisomal dihydroxyacetonephosphate acyltransferase deficiency', 'Type 2 rhizomelic chondrodysplasia punctata', 'Chondrodysplasia punctata', ' rhizomelic', ' due to dihydroxyacetonephosphate'], ['Arthrogryposis IUGR thoracic dystrophy', 'Van Bervliet syndrome'], ['Biliary tract cancer'], ['Acute respiratory distress syndrome', 'ARDS', 'Acute lung injury', 'ALI', 'Adult respiratory distress syndrome', 'Respiratory distress syndrome', ' adult', 'Increased-permeability pulmonary edema', 'Non-cardiogenic pulmonary edema', 'Shock lung', 'Stiff lung'], ['Book syndrome', 'Premolar aplasia', ' hyperhidrosis', ' and canities prematura', 'PHC syndrome'], ['Cantu Sanchez-Corona Garcia-Cruz syndrome'], ['Allain-Babin-Demarquez syndrome', 'Acro cephalo synostosis', 'Craniosynostosis synostoses hypertensive nephropathy'], ['Optic pathway glioma'], ['Neurosyphilis'], ['Potocki-Lupski syndrome', 'PTLS', 'Duplication 17p11.2 syndrome', 'Potocki-Lupski syndrome (dup(17)(p11.2p11.2))'], ['Nail-patella syndrome', 'NPS 1', 'Onychoosteodysplasia', 'Turner-Kieser syndrome', 'Fong disease', 'Osteo-Onychodysplasia', 'Arthro-Onychodysplasia'], ['Eunuchoidism familial hypogonadotropic', 'Gonadotropin deficiency familial idiopathic', 'FIGD', 'Familial hypogonadotropic eunuchoidism'], ['Brachydactyly-mesomelia-intellectual disability-heart defects syndrome', 'Brachydactyly mesomelia mental retardation aortic dilatation mitral valve prolapse and characteristic face', 'Stratton-Garcia-Young syndrome'], ['Atelosteogenesis type 1', 'AOI', 'Giant cell chondrodysplasia', 'Spondylohumerofemoral hypoplasia'], ['Congenital amegakaryocytic thrombocytopenia', 'Thrombocytopenia congenital amegakaryocytic', 'CAMT'], ['Triphalangeal thumb non opposable', 'Non-opposable triphalangeal thumb', 'TPT'], ['Osteochondroma'], ['Arachnodactyly - intellectual disability - dysmorphism', 'De Die-Smulders-Vles-Fryns syndrome', 'Arachnodactyly-intellectual disability-dysmorphism syndrome'], ['Cutis laxa, autosomal dominant', 'ADCL', 'Autosomal dominant cutis laxa'], ['Oculomotor apraxia Cogan type', 'Congenital oculomotor apraxia', \"Cogan's syndrome type 2\", 'Saccade initiation failure congenital', 'COMA'], ['Brooks Wisniewski Brown syndrome', 'X-linked mental retardation Brooks type'], ['Congenital central hypoventilation syndrome', 'CCHS', 'Idiopathic congenital central alveolar hypoventilation', 'Congenital failure of autonomic control', 'Primary alveolar hypoventilation', 'Congenital Ondine curse', \"Ondine's curse (formerly)\", 'Ondine curse (formerly)'], ['NADH cytochrome B5 reductase deficiency', 'Methemoglobinemia due to deficiency of methemoglobin reductase', 'NADH-dependent methemoglobin reductase deficiency', 'Diaphorase deficiency', 'NADH diaphorase deficiency', 'NADH methemoglobin reductase deficiency', 'Autosomal recessive methemoglobinemia'], ['Tyrosinemia type 1', 'Tyrosinemia type I', 'Hepatorenal tyrosinemia', 'Fumarylacetoacetase deficiency', 'FAH deficiency'], ['Subpulmonary stenosis'], ['Manitoba oculotrichoanal syndrome', 'Oculotrichoanal syndrome', 'Marles syndrome', 'Marles-Greenberg-Persaud syndrome', 'Manitoba Trichoanal syndrome', 'MOTA syndrome', 'Unilateral upper eyelid coloboma', ' aberrant anterior hairline pattern', ' and anal anomalies'], ['Corneal endothelial dystrophy type 2', 'CHED2', 'Corneal dystrophy', ' congenital hereditary endothelial', 'Congenital hereditary endothelial dystrophy of the cornea', 'Maumenee corneal dystrophy'], ['Spastic paraplegia 5A', 'SPG5A', 'Autosomal recessive spastic paraplegia', 'Spastic paraplegia type 5A'], ['Pityriasis lichenoides et varioliformis acuta', 'PLEVA', 'Mucha-Habermann disease'], [\"Wilms' tumor\", 'Nephroblastoma', 'WT1', 'Bilateral Wilms tumor'], ['CODAS syndrome', 'Cerebral', ' ocular', ' dental', ' auricular', ' and skeletal syndrome', 'Cerebro-oculo-dento-auriculo-skeletal syndrome'], ['Rokitansky-Aschoff sinuses of the gallbladder', 'Rokitansky-Aschoff sinuses', 'Intramural diverticulosis of the gallbladder'], ['Ring chromosome 20', 'Chromosome 20 ring', 'Ring 20', 'R20', 'Ring chromosome 20 syndrome'], ['X-linked intellectual disability with or without nystagmus', 'FGS4', 'FG syndrome 4'], ['Microphthalmia', 'Clinical anophthalmia', 'Primitive anophthalmia', 'Isolated anophthalmia - microphthalmia', 'Isolated pure microphthalmia', 'Isolated anophthalmia-microphthalmia syndrome', 'MAC spectrum', 'Microphthalmia-anophthalmia-coloboma spectrum', 'Isolated microphthalmia-anophthalmia-coloboma'], ['Megalencephaly-Polymicrogyria-Polydactyly-Hydrocephalus syndrome', 'MPPH syndrome', 'Megalencephaly and perisylvian polymicrogyria with postaxial polydactyly and hydrocephalus', 'Megalencephaly', ' polymicrogyria', ' and hydrocephalus (MPPH) syndrome', 'Megalencephaly-polymicrogyria-postaxial polydactyly-hydrocephalus syndrome'], ['Spinocerebellar ataxia 10', 'SCA10', 'Spinocerebellar ataxia type 10'], ['Shoulder girdle defect mental retardation familial', 'Shoulder and girdle defects-familial intellectual disability syndrome', 'OBSOLETE: Shoulder and girdle defects-familial intellectual disability syndrome'], ['Lysinuric protein intolerance', 'LPI', 'Dibasicamino aciduria II'], ['2q37 deletion syndrome', 'Chromosome 2q37 deletion syndrome', 'Albright hereditary osteodystrophy-like syndrome', 'Brachydactyly-Intellectual disability syndrome'], ['Severe congenital neutropenia autosomal dominant', 'Autosomal dominant severe congenital neutropenia'], ['Craniosynostosis contractures cleft'], ['Bardet-Biedl syndrome 1', 'BBS1', 'Bardet-Biedl syndrome', 'BBS'], ['Spastic paraplegia 2', 'SPG2', 'SPPX2'], ['Marginal zone lymphoma', 'MZL'], ['Cleft palate lateral synechia syndrome'], ['Chromosome 12p deletion', 'Deletion 12p', 'Monosomy 12p', '12p deletion', '12p monosomy', 'Partial monosomy 12p'], ['Hereditary antithrombin deficiency type I', 'Inherited antithrombin deficiency type I', 'Hereditary antithrombin deficiency type 1', 'Inherited antithrombin deficiency classic type'], ['Microphthalmia microtia fetal akinesia', 'Microphthalmia-microtia-fetal akinesia', 'Thomas Jewett Raines syndrome', 'Thomas-Jewett-Raines syndrome', 'Fetal akinesia with characteristic facial appearance', ' severe microphthalmia', ' microtia', ' and truncus arteriosus'], ['Ichthyosis prematurity syndrome', 'Ichthyosis congenita IV', 'IPS'], ['X-linked visceral heterotaxy 1', 'HTX1', 'Laterality', ' X-linked', 'Situs inversus', ' complex cardiac defects', ' and splenic defects', ' X-linked', 'Heterotaxy', ' visceral', ' 1', ' X-linked', 'Heterotaxy', ' visceral', ' X-linked'], ['Lipogranulomatosis'], ['Serpiginous choroiditis', 'Geographic choroiditis', 'Geographic helicoid peripapillary choroidopathy (GHPC)', 'Geographic serpiginous choroiditis', 'Peripapillary choriopathy', 'Serpiginous choroidopathy'], ['Czech dysplasia metatarsal type', 'Pseudorheumatoid dysplasia progressive', ' with hypoplastic toes'], ['Morquio syndrome B', 'Mucopolysaccharidosis type IVB', 'MPS IVB', 'MPS 4B'], ['Myoclonus epilepsy partial seizure'], ['Impairment of oral perception', 'Disturbance of oral sensitivity'], ['Florid cystic endosalpingiosis of the uterus', 'Cystic endosalpingiosis of the uterus'], ['Jumping Frenchmen of Maine', 'Exaggerated startle reflex', 'Startle disease', \"'jumpers' of Maine\"], ['Marshall syndrome', 'Deafness', ' myopia', ' cataract', ' saddle nose-Marshall type'], ['Lambdoid synostosis', 'Craniosynostosis', ' lambdoidal'], ['Citrullinemia type II', 'Citrullinemia type 2', 'Adult-onset citrullinemia type 2', 'CTLN2', 'Citrin deficiency', 'Adult-onset citrullinemia type II', 'Adult-onset citrin deficiency', 'Adult-onset type II citrullinemia', ''], ['Acanthosis nigricans muscle cramps acral enlargement', 'Familial insulin resistance with acanthosis nigricans', ' acral hypertrophy and muscle cramps'], ['Acalvaria', 'Primary acalvaria'], ['Autosomal dominant spinal muscular atrophy, lower extremity-predominant 1', 'SMA-LED1', 'Lower extremity-predominant autosomal dominant proximal spinal muscular atrophy without contractures', 'SMALED1', 'Spinal muscular atrophy', ' lower extremity-predominant 1', ' dominant', 'Autosomal dominant lower extremity-predominant spinal muscular atrophy-1', 'Spinal muscular atrophy', ' lower extremity-predominant', ' 1', ' autosomal dominant', 'Autosomal dominant spinal muscular atrophy with lower extremity predominance', 'Spinal muscular atrophy', ' lower extremity-predominant 1', ' AD', 'Autosomal dominant childhood-onset proximal spinal muscular atrophy without contractures', 'DYNC1H1-related autosomal dominant childhood-onset proximal spinal muscular atrophy', 'DYNC1H1-related lower extremity-predominant autosomal dominant proximal spinal muscular atrophy'], ['CD4 deficiency'], ['Autosomal recessive distal renal tubular acidosis', 'RTADR', 'RTA', ' distal', ' autosomal recessive', 'Renal tubular acidosis', ' autosomal recessive with preserved hearing', 'RENAL TUBULAR ACIDOSIS', ' DISTAL', ' AUTOSOMAL RECESSIVE', ' WITH LATE-ONSET SENSORINEURAL HEARING LOSS', ' INCLUDED', 'AR dRTA', 'Autosomal recessive distal RTA'], ['Nephropathy, deafness, and hyperparathyroidism', 'Edwards Patton Dilly syndrome', 'Nephropathy - deafness - hyperparathyroidism'], ['Severe combined immunodeficiency with sensitivity to ionizing radiation', 'RS-SCID', 'SCID', ' autosomal recessive', ' T cell-negative', ' B cell-negative', ' NK cell-positive', ' with sensitivity to ionizing radiation'], ['Orofaciodigital syndrome 1', 'OFD1', 'OFD syndrome 1', 'Oral-facial-digital syndrome type 1', 'Papillon-League-Psaume syndrome (formerly)', 'Orofaciodigital syndrome I', 'Oral-facial-digital syndrome 1', 'Oral facial digital syndrome 1', 'Oral facial digital syndrome type 1', 'OFDS 1'], ['Familial chylomicronemia syndrome', 'Hyperlipoproteinemia type 1'], ['Arthrochalasia Ehlers-Danlos syndrome', 'Arthrochalasis multiplex congenita', 'Ehlers-Danlos syndrome type 7A (formerly)', 'EDS7A (formerly)', 'Arthrochalasia EDS', 'aEDS', 'Ehlers-Danlos syndrome', ' arthrochalasia type'], ['22q11.2 duplication syndrome', '22q11.2 duplication', '22q11.2 microduplication syndrome', 'Chromosome 22q11.2 duplication syndrome'], ['Palindromic rheumatism', 'Palindromic rheumatism syndrome', 'Hench-Rosenberg syndrome', \"Hench's syndrome\"], ['Osteochondritis dissecans', 'Kônig disease', 'König disease'], ['Arrhythmogenic right ventricular cardiomyopathy', 'ARVD', 'ARVC', 'Arrhythmogenic right ventricular dysplasia'], ['Kikuchi disease', 'Kikuchi necrotizing lymphadenitis', \"Nosocomial Kikuchi's disease\", \"Kikuchi's disease\", \"Kikuchi-Fujimoto's disease\", 'Histiocytic necrotising lymphadenitis', 'Histiocytic necrotizing lymphadenitis', 'Kikuchi-Fujimoto disease'], ['Brachydactyly type A5', 'Absent middle phalanges of digits 2-5 with nail dysplasia', 'Brachydactyly with absence of middle phalanges and hypoplastic nails', 'Brachydactyly type A5 nail dysplasia'], ['Familial porencephaly', 'Familial porencephalic white matter disease'], ['Hyperprolinemia', 'Proline oxidase deficiency', 'Proline hydrogenase deficiency', 'Hyperprolinemia type 1'], ['Sackey Sakati Aur syndrome', 'Aur syndrome', 'Pancytopenia multiple congenital anomalies', 'Multiple dysmorphic features and pancytopenia'], ['Cutis laxa, autosomal recessive type 2A', 'ARCL2A', 'Cutis laxa with joint laxity and retarded development', 'Cutis laxa with growth and developmental delay', 'Cutis laxa with bone dystrophy', 'Cutis laxa', ' Debre type'], ['Superior limbic keratoconjunctivitis', 'SLK', 'Theodores superior limbic keratoconjunctivitis', 'Theodores syndrome', 'Theodore superior limbic keratoconjunctivitis', 'Theodore syndrome'], ['Extragonadal germ cell tumor'], ['Carnevale Hernandez Castillo syndrome', 'Triphalyngeal thumbs and brachyectrodactyly'], ['Rare intellectual disability without developmental anomaly', 'Rare non-syndromic intellectual deficiency', 'Rare non-syndromic intellectual disability', 'Rare NSID'], ['Cryoglobulinemic vasculitis', 'Familial mixed cryoglobulinemia', 'Mixed cryoglobulinemia', 'Essential cryoglobulinemia', 'Primary cryoglobulinemia', 'Essential mixed cryoglobulinemia', 'Meltzer syndrome'], ['Bardet-Biedl syndrome 12', 'BBS12', 'Bardet-Biedl syndrome', 'BBS'], ['Richieri Costa Da Silva syndrome', 'Myotonia-intellectual disability-skeletal anomalies syndrome', 'Richieri Costa-da Silva syndrome'], ['Shapiro syndrome', \"Shapiro's syndrome\", 'Recurrent spontaneous hypothermia with hypoplasia of the corpus callosum', 'Spontaneous periodic hypothermia syndrome', 'Spontaneous recurrent hypothermia syndrome', 'Spontaneous periodic hypothermia'], ['Retinitis Pigmentosa 18', 'RP 18'], ['Klatskin tumor', \"Klatskin's tumor\", 'Perihilar cholangiocarcinoma'], ['Papular mucinosis', 'Lichen myxoedematosus', 'Lichen myxedematosus', 'Localized lichen myxedematosus'], ['Pruritic urticarial papules plaques of pregnancy', 'Polymorphic eruption of pregnancy', 'PUPPP', 'Pruritic urticarial papules and plaques of pregnancy', ' familial (subtype)'], ['Idiopathic acute eosinophilic pneumonia'], ['Acute cholinergic dysautonomia', 'ACD'], ['5q14.3 microdeletion syndrome ', 'Chromosome 5q14.3 deletion syndrome', 'Monosomy 5q14.3', 'Del(5)(q14.3)', 'Mental retardation', ' autosomal dominant 20', '5q14.3 deletion syndrome', 'Autosomal dominant intellectual disability 20'], ['Cleft lip palate pituitary deficiency'], ['Duane syndrome', 'Duane anomaly', 'Duane retraction syndrome', 'DRS', 'Stilling-Turk-Duane syndrome'], ['B cell prolymphocytic leukemia', 'Leukemia', ' B cell prolymphocytic'], ['CDK4 linked melanoma'], ['Autosomal dominant non-syndromic intellectual disability'], ['Cardiofacial syndrome short limbs'], ['Coronaro-cardiac fistula'], ['Eosinophilic cystitis'], ['Antigen-peptide-transporter 2 deficiency', 'TAP 2 deficiency'], ['MEHMO syndrome', 'MEHMO', 'X-linked MEHMO syndrome', 'Intellectual disability', ' epileptic seizures', ' hypogonadism and hypogenitalism', ' microcephaly', ' and obesity', 'X-linked intellectual disability-epileptic seizures-hypogenitalism-microcephaly-obesity syndrome'], ['Osteogenesis imperfecta', 'OI', 'Brittle bone disease', 'Vrolik disease', 'Fragilitas ossium', 'Lobstein disease', 'Osteopsathyrosis', 'Porak and Durante disease'], ['Absent patella', 'Patella aplasia-hypoplasia', 'PTLAH', 'Familial absence of the patella', 'Familial aplasia of the patella (subtype)'], ['Subacute sclerosing panencephalitis', 'SSPE', 'Dawson disease', 'Dawson Encephalitis'], ['Usher syndrome, type 1F', 'USH1F'], ['Crusted scabies', 'Norwegian scabies', 'Seven year itch'], ['X-linked Charcot-Marie-Tooth disease type 2', 'CMTX 2', 'Charcot-Marie-Tooth disease', ' X-linked recessive', ' 2', 'Charcot Marie Tooth disease X-linked recessive 2', 'CHARCOT-MARIE-TOOTH NEUROPATHY', ' X-LINKED RECESSIVE', ' 2'], ['Spondylometaphyseal dysplasia type A4', 'Spondylometaphyseal dysplasia A4 type'], ['Spinocerebellar ataxia 11', 'SCA11', 'Spinocerebellar ataxia type 11'], ['Early Infantile Epileptic Encephalopathy'], ['Pituitary dwarfism with large sella turcica'], ['Gas bloat syndrome', 'Post-fundoplication syndrome'], ['Lactate dehydrogenase B deficiency', 'Lactate dehydrogenase deficiency type B', 'LDH deficiency B', 'LDHBD'], ['X-linked congenital generalized hypertrichosis', 'HTC2', 'CGH', 'HCG', 'Macias-Flores Garcia-Cruz Rivera syndrome', 'Chromosome  Xq27.1 interchromosomal insertion syndrome', 'Hypertrichosis congenital generalized X-linked', 'Congenital generalized hypertrichosis', ' Macias-Flores type', 'Macias Flores-Garcia Cruz-Rivera syndrome'], ['Charcot-Marie-Tooth disease type 2O', 'CMT2O', 'Autosomal dominant Charcot-Marie-Tooth disease type 2O', 'CHARCOT-MARIE-TOOTH DISEASE', ' AXONAL', ' TYPE 2O', 'CHARCOT-MARIE-TOOTH NEUROPATHY', ' AXONAL', ' TYPE 2O', 'CHARCOT-MARIE-TOOTH DISEASE', ' AXONAL', ' AUTOSOMAL DOMINANT', ' TYPE 2O'], ['Chiari malformation type 4', 'Chiari type IV malformation', 'Chiari malformation type IV', 'Arnold Chiari malformation type IV'], ['Hemifacial microsomia', 'First and second branchial arch syndrome'], ['Santos Mateus Leal syndrome', 'Hirschsprung disease', ' deafness and polydactyly', 'Hirschsprung disease associated with polydactyly', ' unilateral renal agenesis', ' hypertelorism', ' and congenital deafness'], ['Autosomal dominant neuronal ceroid lipofuscinosis 4B', 'CLN4B', \"Kuf's disease\", ' autosomal dominant', 'Ceroid lipofuscinosis', ' neuronal', ' Parry type', 'Ceroid lipofuscinosis', ' neuronal', ' 4B', ' autosomal dominant', 'Neuronal ceroid lipofuscinosis 4B', 'Adult neuronal ceroid lipofuscinosis 4B', \"Kuf's disease type B\", 'CLN4B disease'], ['Congenital extrahepatic portosystemic shunt', 'CEPS', 'Abernethy malformation'], ['Lissencephaly X-linked', 'X-linked lissencephaly', 'Lissencephaly and agenesis of corpus callosum', 'LISX', 'XLIS'], ['Oculo-auriculo-vertebral spectrum', 'OAVD', 'Oculo-Auriculo-Vertebral Dysplasia'], ['Wells-Jankovic syndrome', 'Familial spastic paraparesis and deafness', 'Spastic paraparesis - deafness'], ['Malonyl-CoA decarboxylase deficiency', 'Malonic aciduria', 'Malonicaciduria', 'Malonic acidemia', 'MCD deficiency'], ['Carbamoyl phosphate synthetase 1 deficiency', 'Hyperammonemia due to carbamoyl phosphate synthetase 1 deficiency', 'CPS 1 deficiency', 'Carbamyl phosphate synthetase (CPS) deficiency'], ['Doyne honeycomb retinal dystrophy', 'DHRD', 'Doyne honeycomb degeneration of retina', 'DHD'], ['Rare lichen planus', 'Rare LP'], ['Nevus comedonicus syndrome'], ['Limb-girdle muscular dystrophy type 1C', 'LGMD1C', 'Limb-girdle muscular dystrophy due to caveolin-3 deficiency', 'Muscular dystrophy', ' limb-girdle', ' type IC', 'Autosomal dominant limb-girdle muscular dystrophy type 1C'], ['Myelocerebellar disorder', 'Ataxia-pancytopenia syndrome'], ['Dwarfism Levi type', 'Snub-nosed type of dwarfism', \"Dwarfism Levi's type\"], ['Prostatic malacoplakia associated with prostatic abscess', 'Prostatic malacoplakia with prostatic and seminal vesicle abscess'], ['Ichthyosis hystrix, Curth Macklin type', 'Curth-Macklin type ichthyosis hystrix', 'IHCM'], ['Pulmonary artery coming from the aorta'], ['Aortic arch anomaly - peculiar facies - intellectual disability', 'Familial syndrome of right-sided aortic arch', ' mental deficiency', ' and facial dysmorphism', 'Aortic arch anomaly-peculiar facies-intellectual disability syndrome', 'Aortic arch anomaly-facial dysmorphism-intellectual disability syndrome'], ['Absence of gluteal muscle', 'Gluteal muscle', ' absence of', 'Congenital absence of gluteal muscles'], ['Cogan-Reese syndrome']]\n"
     ]
    }
   ],
   "source": [
    "#Randomly pick n disease names\n",
    "dz_list = df_names['d.names'].sample(n=num_dz).values.tolist()\n",
    "print(dz_list)"
   ]
  },
  {
   "cell_type": "code",
   "execution_count": 9,
   "metadata": {},
   "outputs": [],
   "source": [
    "def get_pmids_abstract(dz_name, maxResults):\n",
    "    # get results from searching for disease name through EBI API\n",
    "    term = ''\n",
    "    dz_words = dz_name.split()\n",
    "    for word in dz_words:\n",
    "        term += word + '%20'\n",
    "    query = term[:-3]\n",
    "    url = 'https://www.ebi.ac.uk/europepmc/webservices/rest/search?query='+query+'&resulttype=core'\n",
    "    r = requests.get(url)\n",
    "    root = ET.fromstring(r.content)\n",
    "\n",
    "    pmid_abs = {}\n",
    "    i = 0\n",
    "    # loop over resulting articles\n",
    "    for result in root.iter('result'):\n",
    "        if i >= maxResults:\n",
    "            break\n",
    "        pmids = [pmid.text for pmid in result.iter('id')]\n",
    "        if len(pmids) > 0:\n",
    "            pmid = pmids[0]\n",
    "            if pmid[0].isdigit():\n",
    "                abstracts = [abstract.text for abstract in result.iter('abstractText')]\n",
    "                if len(abstracts) > 0:\n",
    "                    pmid_abs[pmid] = abstracts[0]\n",
    "                    i += 1\n",
    "    return pmid_abs, i"
   ]
  },
  {
   "cell_type": "code",
   "execution_count": 10,
   "metadata": {
    "scrolled": true
   },
   "outputs": [
    {
     "name": "stdout",
     "output_type": "stream",
     "text": [
      "Test completed in  2.427844762802124 seconds\n",
      "Average seconds per PubMed Id & Abstracts call: 0.809281587600708\n",
      "Est. time to build dataset of 25000 abstracts: 5:37:12.039690\n"
     ]
    }
   ],
   "source": [
    "#Test get_pmids_abstract (and epiPredictions) function and generates estimated time of completion\n",
    "dz_num_articles={}\n",
    "dz_pmid_abs_list =[]\n",
    "t1 = time.time()\n",
    "for namelist in dz_list[0:2]:\n",
    "    i =0\n",
    "    for name in namelist:\n",
    "        #pmids_abs ={}\n",
    "        pmid_abs, abs_returned = get_pmids_abstract(name, test_num)\n",
    "        i+=abs_returned\n",
    "        dz_pmid_abs_list.append(pmid_abs)\n",
    "        if i>=test_num:\n",
    "            break \n",
    "    dz_num_articles[namelist[0]] = i\n",
    "t2 = time.time()\n",
    "avg_time = (t2-t1)/test_num\n",
    "print('Test completed in ',t2-t1,'seconds')\n",
    "print('Average seconds per PubMed Id & Abstracts call: '+ str(avg_time))\n",
    "print('Est. time to build dataset of '+str(num_dz*num_articles)+' abstracts: ' + str(datetime.timedelta(seconds=(avg_time*num_dz*num_articles))))"
   ]
  },
  {
   "cell_type": "code",
   "execution_count": 11,
   "metadata": {
    "scrolled": true
   },
   "outputs": [
    {
     "name": "stdout",
     "output_type": "stream",
     "text": [
      "It took 0:22:24.522713 to build dataset of 25000 abstracts.\n",
      "Completion time is: Sat Jul  3 00:38:51 2021\n"
     ]
    }
   ],
   "source": [
    "#Actually get all of the Pubmed IDs and Articles\n",
    "dz_num_articles = {}\n",
    "dz_pmid_abs_list = []\n",
    "\n",
    "t1 = time.time()\n",
    "for namelist in dz_list:\n",
    "    i = 0\n",
    "    for name in namelist:\n",
    "        pmid_abs, abs_returned = get_pmids_abstract(name, num_articles)\n",
    "        i+=abs_returned\n",
    "        dz_pmid_abs_list.append(pmid_abs)\n",
    "        if i>=num_articles:\n",
    "            break \n",
    "    dz_num_articles[namelist[0]] = i\n",
    "t2 = time.time()\n",
    "print('It took '+ str(datetime.timedelta(seconds=(t2-t1)))+' to build dataset of '+str(num_dz*num_articles)+' abstracts.')"
   ]
  },
  {
   "cell_type": "code",
   "execution_count": 12,
   "metadata": {
    "scrolled": false
   },
   "outputs": [],
   "source": [
    "#Sort the dictionary\n",
    "dz_num_articles = dict(sorted(dz_num_articles.items(), key=lambda x: x[1]))"
   ]
  },
  {
   "cell_type": "code",
   "execution_count": 13,
   "metadata": {
    "scrolled": true
   },
   "outputs": [
    {
     "data": {
      "image/png": "iVBORw0KGgoAAAANSUhEUgAAAjsAAAGwCAYAAABPSaTdAAAAOXRFWHRTb2Z0d2FyZQBNYXRwbG90bGliIHZlcnNpb24zLjQuMiwgaHR0cHM6Ly9tYXRwbG90bGliLm9yZy8rg+JYAAAACXBIWXMAAA9hAAAPYQGoP6dpAAAubElEQVR4nO3de1iUdeL//9cgMhAIiCYDCoLlZub5EBF2lPJ0lW5sWmuf1TLdCs9Z4uebmq6J+klzLdMy0/xkZa6ra5qUUerHIlQULTMz80ApWKuAkOJh7t8f/ZqrWQ8xMjjD2+fjuua6mPd9z83r7bTDa9/3PTM2y7IsAQAAGCrA1wEAAACqE2UHAAAYjbIDAACMRtkBAABGo+wAAACjUXYAAIDRKDsAAMBogb4O4A+cTqcOHTqkOnXqyGaz+ToOAACoBMuydPz4ccXGxiog4MLrN5QdSYcOHVJcXJyvYwAAgEtQUFCgRo0aXXA7ZUdSnTp1JP3yjxUeHu7jNAAAoDJKS0sVFxfn+jt+IZQdyXXqKjw8nLIDAEAN83uXoHCBMgAAMBplBwAAGI2yAwAAjEbZAQAARqPsAAAAo1F2AACA0Sg7AADAaJQdAABgNMoOAAAwGmUHAAAYjbIDAACMRtkBAABGo+wAAACjUXYAAIDRKDsAAMBogb4OAACAryRkrPZ1BI/tn9LD1xFqHFZ2AACA0Sg7AADAaJQdAABgNMoOAAAwGmUHAAAYjbIDAACMRtkBAABGo+wAAACjUXYAAIDRKDsAAMBolB0AAGA0yg4AADAaZQcAABiNsgMAAIxG2QEAAEbzadnZsGGD7rnnHsXGxspms2nFihVu2y3L0rhx4xQTE6OQkBClpqZqz549bvscPXpUffv2VXh4uCIjIzVgwACVlZVdxlkAAAB/5tOyU15ertatW2v27Nnn3T5t2jTNmjVLc+fOVW5urkJDQ9WlSxedPHnStU/fvn21c+dOrV27VqtWrdKGDRs0aNCgyzUFAADg5wJ9+cu7deumbt26nXebZVmaOXOmnnnmGfXs2VOStGjRIkVHR2vFihV64IEHtGvXLmVlZWnz5s3q0KGDJOnFF19U9+7d9fzzzys2NvayzQUAAPgnv71mZ9++fSosLFRqaqprLCIiQklJScrJyZEk5eTkKDIy0lV0JCk1NVUBAQHKzc294LErKipUWlrqdgMAAGby27JTWFgoSYqOjnYbj46Odm0rLCxUgwYN3LYHBgYqKirKtc/5ZGZmKiIiwnWLi4vzcnoAAOAv/LbsVKcxY8aopKTEdSsoKPB1JAAAUE38tuw4HA5JUlFRkdt4UVGRa5vD4dCRI0fctp85c0ZHjx517XM+drtd4eHhbjcAAGAmvy07iYmJcjgcys7Odo2VlpYqNzdXycnJkqTk5GQVFxcrLy/Ptc/HH38sp9OppKSky54ZAAD4H5++G6usrEzffvut6/6+ffuUn5+vqKgoxcfHa/jw4Zo0aZKaNm2qxMREjR07VrGxserVq5ck6frrr1fXrl01cOBAzZ07V6dPn9bgwYP1wAMP8E4sAAAgycdlZ8uWLbrjjjtc90eOHClJ6tevnxYuXKinn35a5eXlGjRokIqLi9WpUydlZWUpODjY9ZjFixdr8ODB6ty5swICApSWlqZZs2Zd9rkAAAD/ZLMsy/J1CF8rLS1VRESESkpKuH4HAK4gCRmrfR3BY/un9PB1BL9R2b/ffnvNDgAAgDdQdgAAgNEoOwAAwGiUHQAAYDTKDgAAMBplBwAAGI2yAwAAjEbZAQAARqPsAAAAo1F2AACA0Sg7AADAaJQdAABgNMoOAAAwGmUHAAAYjbIDAACMRtkBAABGo+wAAACjUXYAAIDRKDsAAMBolB0AAGA0yg4AADAaZQcAABiNsgMAAIxG2QEAAEaj7AAAAKNRdgAAgNECfR0AAABUXkLGal9H8Nj+KT18+vtZ2QEAAEaj7AAAAKNRdgAAgNEoOwAAwGiUHQAAYDTKDgAAMBplBwAAGI2yAwAAjEbZAQAARqPsAAAAo1F2AACA0Sg7AADAaJQdAABgNMoOAAAwGmUHAAAYjbIDAACMRtkBAABGo+wAAACjUXYAAIDRKDsAAMBolB0AAGA0yg4AADAaZQcAABiNsgMAAIxG2QEAAEaj7AAAAKNRdgAAgNEoOwAAwGh+XXbOnj2rsWPHKjExUSEhIbrmmmv0t7/9TZZlufaxLEvjxo1TTEyMQkJClJqaqj179vgwNQAA8Cd+XXamTp2qOXPm6KWXXtKuXbs0depUTZs2TS+++KJrn2nTpmnWrFmaO3eucnNzFRoaqi5duujkyZM+TA4AAPxFoK8DXMxnn32mnj17qkePHpKkhIQEvf3229q0aZOkX1Z1Zs6cqWeeeUY9e/aUJC1atEjR0dFasWKFHnjgAZ9lBwAA/sGvV3ZuvvlmZWdn65tvvpEkbd++XRs3blS3bt0kSfv27VNhYaFSU1Ndj4mIiFBSUpJycnIueNyKigqVlpa63QAAgJn8emUnIyNDpaWlatasmWrVqqWzZ8/queeeU9++fSVJhYWFkqTo6Gi3x0VHR7u2nU9mZqYmTJhQfcEBAIDf8OuVnXfffVeLFy/WW2+9pa1bt+qNN97Q888/rzfeeKNKxx0zZoxKSkpct4KCAi8lBgAA/savV3aeeuopZWRkuK69admypQ4cOKDMzEz169dPDodDklRUVKSYmBjX44qKitSmTZsLHtdut8tut1drdgAA4B/8emXn559/VkCAe8RatWrJ6XRKkhITE+VwOJSdne3aXlpaqtzcXCUnJ1/WrAAAwD/59crOPffco+eee07x8fG64YYbtG3bNs2YMUOPPPKIJMlms2n48OGaNGmSmjZtqsTERI0dO1axsbHq1auXb8MDAAC/4Ndl58UXX9TYsWP1xBNP6MiRI4qNjdVf//pXjRs3zrXP008/rfLycg0aNEjFxcXq1KmTsrKyFBwc7MPkAADAX9is334c8RWqtLRUERERKikpUXh4uK/jAAAuk4SM1b6OcEXYP6VHtRy3sn+//fqaHQAAgKqi7AAAAKNRdgAAgNEoOwAAwGiUHQAAYDTKDgAAMJpff84OAKDm4G3c8Fes7AAAAKNRdgAAgNEoOwAAwGiUHQAAYDTKDgAAMBplBwAAGI2yAwAAjEbZAQAARqPsAAAAo1F2AACA0Sg7AADAaJQdAABgNMoOAAAwGmUHAAAYjbIDAACMRtkBAABGo+wAAACjUXYAAIDRKDsAAMBolB0AAGA0yg4AADAaZQcAABjN47LzxhtvaPXq1a77Tz/9tCIjI3XzzTfrwIEDXg0HAABQVR6XncmTJyskJESSlJOTo9mzZ2vatGmqX7++RowY4fWAAAAAVRHo6QMKCgp07bXXSpJWrFihtLQ0DRo0SCkpKbr99tu9nQ8AAKBKPF7ZCQsL07///W9J0ocffqi77rpLkhQcHKwTJ054Nx0AAEAVebyyc9ddd+nRRx9V27Zt9c0336h79+6SpJ07dyohIcHb+QAAAKrE45Wd2bNnKzk5WT/++KOWLVumevXqSZLy8vL04IMPej0gAABAVXi8shMZGamXXnrpnPEJEyZ4JRAAAIA3eVx2JOn//u//9Morr+i7777T0qVL1bBhQ/3v//6vEhMT1alTJ29nBH5XQsbq39/Jz+yf0sPXEQDgiuDxaaxly5apS5cuCgkJ0datW1VRUSFJKikp0eTJk70eEAAAoCo8LjuTJk3S3LlzNW/ePNWuXds1npKSoq1bt3o1HAAAQFV5XHZ2796tW2+99ZzxiIgIFRcXeyMTAACA13hcdhwOh7799ttzxjdu3KgmTZp4JRQAAIC3eFx2Bg4cqGHDhik3N1c2m02HDh3S4sWLNWrUKD3++OPVkREAAOCSefxurIyMDDmdTnXu3Fk///yzbr31Vtntdo0aNUpDhgypjowAAACXzOOyY7PZ9P/+3//TU089pW+//VZlZWVq3ry5wsLCqiMfAABAlXh8GutXQUFBat68uZo1a6aPPvpIu3bt8mYuAAAAr/C47PTu3dv1CconTpxQx44d1bt3b7Vq1UrLli3zekAAAICq8LjsbNiwQbfccoskafny5XI6nSouLtasWbM0adIkrwcEAACoCo/LTklJiaKioiRJWVlZSktL01VXXaUePXpoz549Xg8IAABQFR6Xnbi4OOXk5Ki8vFxZWVm6++67JUnHjh1TcHCw1wMCAABUhcfvxho+fLj69u2rsLAwNW7cWLfffrukX05vtWzZ0tv5AAAAqsTjsvPEE08oKSlJBw8e1F133aWAgF8Wh5o0acI1OwAAwO94XHYkqX379mrfvr3bWI8ePbwSCAAAwJsuqex8//33WrlypQ4ePKhTp065bZsxY4ZXggEAAHiDx2UnOztb9957r5o0aaKvv/5aLVq00P79+2VZltq1a1cdGQEAAC6Zx+/GGjNmjEaNGqUvvvhCwcHBWrZsmQoKCnTbbbfp/vvvr46MAAAAl8zjsrNr1y795S9/kSQFBgbqxIkTCgsL08SJEzV16lSvBwQAAKgKj8tOaGio6zqdmJgY7d2717Xtp59+8l6y/98PP/yghx56SPXq1VNISIhatmypLVu2uLZblqVx48YpJiZGISEhSk1N5cMNAQCAi8dl56abbtLGjRslSd27d9eTTz6p5557To888ohuuukmr4Y7duyYUlJSVLt2ba1Zs0ZfffWVpk+frrp167r2mTZtmmbNmqW5c+cqNzdXoaGh6tKli06ePOnVLAAAoGby+ALlGTNmqKysTJI0YcIElZWVacmSJWratKnX34k1depUxcXFacGCBa6xxMRE18+WZWnmzJl65pln1LNnT0nSokWLFB0drRUrVuiBBx4473ErKipUUVHhul9aWurV3AAAwH94vLLTpEkTtWrVStIvp7Tmzp2rHTt2aNmyZWrcuLFXw61cuVIdOnTQ/fffrwYNGqht27aaN2+ea/u+fftUWFio1NRU11hERISSkpKUk5NzweNmZmYqIiLCdYuLi/NqbgAA4D88LjuSVFxcrNdee01jxozR0aNHJUlbt27VDz/84NVw3333nebMmaOmTZvqgw8+0OOPP66hQ4fqjTfekCQVFhZKkqKjo90eFx0d7dp2PmPGjFFJSYnrVlBQ4NXcAADAf3h8GmvHjh1KTU1VRESE9u/fr4EDByoqKkr//Oc/dfDgQS1atMhr4ZxOpzp06KDJkydLktq2basvv/xSc+fOVb9+/S75uHa7XXa73VsxAQCAH/N4ZWfkyJHq37+/9uzZ4/Yt5927d9eGDRu8Gi4mJkbNmzd3G7v++ut18OBBSZLD4ZAkFRUVue1TVFTk2gYAAK5sHpedzZs3669//es54w0bNrzoqaNLkZKSot27d7uNffPNN65rgxITE+VwOJSdne3aXlpaqtzcXCUnJ3s1CwAAqJk8Po1lt9vP++6lb775RldffbVXQv1qxIgRuvnmmzV58mT17t1bmzZt0quvvqpXX31VkmSz2TR8+HBNmjRJTZs2VWJiosaOHavY2Fj16tXLq1kAAEDN5PHKzr333quJEyfq9OnTkn4pHAcPHtTo0aOVlpbm1XAdO3bU8uXL9fbbb6tFixb629/+ppkzZ6pv376ufZ5++mkNGTJEgwYNUseOHVVWVqasrCy3U2wAAODKZbMsy/LkASUlJfrTn/6kLVu26Pjx44qNjVVhYaGSk5P1/vvvKzQ0tLqyVpvS0lJFRESopKRE4eHhvo6DS5CQsdrXETy2f0oPX0cAvKom/u8Ql0d1vd5V9u+3x6exIiIitHbtWn366afavn27ysrK1K5dO7fPugEAAPAXHpedX6WkpCglJUXSL5+7AwAA4I88vmZn6tSpWrJkiet+7969Va9ePTVs2FDbt2/3ajgAAICq8rjszJ071/X1CmvXrtXatWu1Zs0adevWTU899ZTXAwIAAFSFx6exCgsLXWVn1apV6t27t+6++24lJCQoKSnJ6wEBAACqwuOVnbp167q+SyorK8t1YbJlWTp79qx30wEAAFSRxys79913n/785z+radOm+ve//61u3bpJkrZt26Zrr73W6wEBAACqwuOy88ILLyghIUEFBQWaNm2awsLCJEmHDx/WE0884fWAAAAAVeFx2aldu7ZGjRp1zviIESO8EggAAMCbKlV2Vq5cqW7duql27dpauXLlRfe99957vRIMAADAGypVdnr16qXCwkI1aNDgol+wabPZuEgZAAD4lUqVHafTed6fAQAA/J3Hbz0HAACoSTy6QNnpdGrhwoX65z//qf3798tmsykxMVF/+tOf9F//9V+y2WzVlRMAAOCSVHplx7Is3XvvvXr00Uf1ww8/qGXLlrrhhht04MAB9e/fX3/84x+rMycAAMAlqfTKzsKFC7VhwwZlZ2frjjvucNv28ccfq1evXlq0aJH+8pe/eD0kAADApar0ys7bb7+t//7v/z6n6EjSnXfeqYyMDC1evNir4QAAAKqq0mVnx44d6tq16wW3d+vWTdu3b/dKKAAAAG+pdNk5evSooqOjL7g9Ojpax44d80ooAAAAb6l02Tl79qwCAy98iU+tWrV05swZr4QCAADwlkpfoGxZlvr37y+73X7e7RUVFV4LBQAA4C2VLjv9+vX73X14JxYAAPA3lS47CxYsqM4cAAAA1YKviwAAAEaj7AAAAKNRdgAAgNEoOwAAwGiVKjvt2rVzfWDgxIkT9fPPP1drKAAAAG+pVNnZtWuXysvLJUkTJkxQWVlZtYYCAADwlkq99bxNmzZ6+OGH1alTJ1mWpeeff15hYWHn3XfcuHFeDQgAAFAVlSo7Cxcu1Pjx47Vq1SrZbDatWbPmvF8dYbPZKDsAAMCvVKrsXHfddXrnnXckSQEBAcrOzlaDBg2qNRgAAIA3VPoTlH/ldDqrIwcAAEC18LjsSNLevXs1c+ZM7dq1S5LUvHlzDRs2TNdcc41XwwEAAFSVx5+z88EHH6h58+batGmTWrVqpVatWik3N1c33HCD1q5dWx0ZAQAALpnHKzsZGRkaMWKEpkyZcs746NGjddddd3ktHAAAQFV5vLKza9cuDRgw4JzxRx55RF999ZVXQgEAAHiLx2Xn6quvVn5+/jnj+fn5vEMLAAD4HY9PYw0cOFCDBg3Sd999p5tvvlmS9Omnn2rq1KkaOXKk1wMCAABUhcdlZ+zYsapTp46mT5+uMWPGSJJiY2P17LPPaujQoV4PCAAAUBUelx2bzaYRI0ZoxIgROn78uCSpTp06Xg8GAADgDZf0OTu/ouQAAAB/5/EFygAAADUJZQcAABiNsgMAAIxG2QEAAEa7pAuUBw8erIkTJyoqKsrbeQDA6xIyVvs6AgAfqvTKzvfff+/6+a233lJZWZkkqWXLliooKPB+MgAAAC+o9MpOs2bNVK9ePaWkpOjkyZMqKChQfHy89u/fr9OnT1dnRgAAgEtW6ZWd4uJiLV26VO3bt5fT6VT37t31hz/8QRUVFfrggw9UVFRUnTkBAAAuSaXLzunTp3XjjTfqySefVEhIiLZt26YFCxaoVq1aev3115WYmKjrrruuOrMCAAB4rNKnsSIjI9WmTRulpKTo1KlTOnHihFJSUhQYGKglS5aoYcOG2rx5c3VmBQAA8FilV3Z++OEHPfPMM7Lb7Tpz5ozat2+vW265RadOndLWrVtls9nUqVOn6swKAADgsUqXnfr16+uee+5RZmamrrrqKm3evFlDhgyRzWbTqFGjFBERodtuu606swIAAHjskj9UMCIiQr1791bt2rX18ccfa9++fXriiSe8mQ0AAKDKLqns7NixQ40aNZIkNW7cWLVr15bD4VCfPn28Gu4/TZkyRTabTcOHD3eNnTx5Uunp6apXr57CwsKUlpbGO8MAAIDLJZWduLg4BQT88tAvv/xScXFxXg11Pps3b9Yrr7yiVq1auY2PGDFC7733npYuXar169fr0KFDuu+++6o9DwAAqBlqxHdjlZWVqW/fvpo3b57q1q3rGi8pKdH8+fM1Y8YM3XnnnWrfvr0WLFigzz77TJ9//rkPEwMAAH9RI8pOenq6evToodTUVLfxvLw8nT592m28WbNmio+PV05OzgWPV1FRodLSUrcbAAAw0yV9Eejl9M4772jr1q3n/QyfwsJCBQUFKTIy0m08OjpahYWFFzxmZmamJkyY4O2oAADAD/n1yk5BQYGGDRumxYsXKzg42GvHHTNmjEpKSlw3vsgUAABz+XXZycvL05EjR9SuXTsFBgYqMDBQ69ev16xZsxQYGKjo6GidOnVKxcXFbo8rKiqSw+G44HHtdrvCw8PdbgAAwEx+fRqrc+fO+uKLL9zGHn74YTVr1kyjR49WXFycateurezsbKWlpUmSdu/erYMHDyo5OdkXkQEAgJ/x67JTp04dtWjRwm0sNDRU9erVc40PGDBAI0eOVFRUlMLDwzVkyBAlJyfrpptu8kVkAADgZ/y67FTGCy+8oICAAKWlpamiokJdunTRyy+/7OtYAADAT9S4srNu3Tq3+8HBwZo9e7Zmz57tm0AAAMCv+fUFygAAAFVF2QEAAEaj7AAAAKNRdgAAgNEoOwAAwGiUHQAAYDTKDgAAMBplBwAAGI2yAwAAjEbZAQAARqPsAAAAo1F2AACA0Sg7AADAaJQdAABgNMoOAAAwGmUHAAAYjbIDAACMRtkBAABGo+wAAACjUXYAAIDRKDsAAMBolB0AAGA0yg4AADAaZQcAABiNsgMAAIxG2QEAAEYL9HUA4EqVkLHa1xEuyf4pPXwdAQA8wsoOAAAwGmUHAAAYjbIDAACMRtkBAABGo+wAAACjUXYAAIDRKDsAAMBolB0AAGA0yg4AADAaZQcAABiNsgMAAIxG2QEAAEaj7AAAAKNRdgAAgNEoOwAAwGiUHQAAYDTKDgAAMBplBwAAGI2yAwAAjEbZAQAARqPsAAAAo1F2AACA0Sg7AADAaJQdAABgNMoOAAAwGmUHAAAYjbIDAACMRtkBAABGo+wAAACj+XXZyczMVMeOHVWnTh01aNBAvXr10u7du932OXnypNLT01WvXj2FhYUpLS1NRUVFPkoMAAD8jV+XnfXr1ys9PV2ff/651q5dq9OnT+vuu+9WeXm5a58RI0bovffe09KlS7V+/XodOnRI9913nw9TAwAAfxLo6wAXk5WV5XZ/4cKFatCggfLy8nTrrbeqpKRE8+fP11tvvaU777xTkrRgwQJdf/31+vzzz3XTTTed97gVFRWqqKhw3S8tLa2+SQAAAJ/y65Wd/1RSUiJJioqKkiTl5eXp9OnTSk1Nde3TrFkzxcfHKycn54LHyczMVEREhOsWFxdXvcEBAIDP1Jiy43Q6NXz4cKWkpKhFixaSpMLCQgUFBSkyMtJt3+joaBUWFl7wWGPGjFFJSYnrVlBQUJ3RAQCAD/n1aazfSk9P15dffqmNGzdW+Vh2u112u90LqQAAgL+rESs7gwcP1qpVq/TJJ5+oUaNGrnGHw6FTp06puLjYbf+ioiI5HI7LnBIAAPgjv17ZsSxLQ4YM0fLly7Vu3TolJia6bW/fvr1q166t7OxspaWlSZJ2796tgwcPKjk52ReRz5GQsdrXETy2f0oPX0cAAMBr/LrspKen66233tK//vUv1alTx3UdTkREhEJCQhQREaEBAwZo5MiRioqKUnh4uIYMGaLk5OQLvhMLAABcWfy67MyZM0eSdPvtt7uNL1iwQP3795ckvfDCCwoICFBaWpoqKirUpUsXvfzyy5c5KQAA8Fd+XXYsy/rdfYKDgzV79mzNnj37MiQCAAA1TY24QBkAAOBSUXYAAIDRKDsAAMBolB0AAGA0yg4AADAaZQcAABjNr996Dt+oiZ/6DADAhbCyAwAAjEbZAQAARqPsAAAAo1F2AACA0Sg7AADAaJQdAABgNMoOAAAwGmUHAAAYjbIDAACMRtkBAABGo+wAAACjUXYAAIDRKDsAAMBolB0AAGA0yg4AADAaZQcAABiNsgMAAIxG2QEAAEaj7AAAAKNRdgAAgNEoOwAAwGiUHQAAYDTKDgAAMBplBwAAGI2yAwAAjBbo6wAAapaEjNW+jgAAHmFlBwAAGI2yAwAAjEbZAQAARqPsAAAAo1F2AACA0Sg7AADAaJQdAABgNMoOAAAwGmUHAAAYjbIDAACMRtkBAABGo+wAAACjUXYAAIDRKDsAAMBolB0AAGA0yg4AADAaZQcAABiNsgMAAIxG2QEAAEaj7AAAAKNRdgAAgNEoOwAAwGjGlJ3Zs2crISFBwcHBSkpK0qZNm3wdCQAA+AEjys6SJUs0cuRIjR8/Xlu3blXr1q3VpUsXHTlyxNfRAACAjxlRdmbMmKGBAwfq4YcfVvPmzTV37lxdddVVev31130dDQAA+FigrwNU1alTp5SXl6cxY8a4xgICApSamqqcnJzzPqaiokIVFRWu+yUlJZKk0tJSr+dzVvzs9WMCAFCTVMff198e17Ksi+5X48vOTz/9pLNnzyo6OtptPDo6Wl9//fV5H5OZmakJEyacMx4XF1ctGQEAuJJFzKze4x8/flwREREX3F7jy86lGDNmjEaOHOm673Q6dfToUdWrV082m81rv6e0tFRxcXEqKChQeHi4147rz5gzczYVc2bOpqrJc7YsS8ePH1dsbOxF96vxZad+/fqqVauWioqK3MaLiorkcDjO+xi73S673e42FhkZWV0RFR4eXuP+A6oq5nxlYM5XBuZ8Zaipc77Yis6vavwFykFBQWrfvr2ys7NdY06nU9nZ2UpOTvZhMgAA4A9q/MqOJI0cOVL9+vVThw4ddOONN2rmzJkqLy/Xww8/7OtoAADAx4woO3369NGPP/6ocePGqbCwUG3atFFWVtY5Fy1fbna7XePHjz/nlJnJmPOVgTlfGZjzleFKmLPN+r33awEAANRgNf6aHQAAgIuh7AAAAKNRdgAAgNEoOwAAwGiUnWo0e/ZsJSQkKDg4WElJSdq0aZOvI3nNhg0bdM899yg2NlY2m00rVqxw225ZlsaNG6eYmBiFhIQoNTVVe/bs8U1YL8jMzFTHjh1Vp04dNWjQQL169dLu3bvd9jl58qTS09NVr149hYWFKS0t7ZwPu6xJ5syZo1atWrk+aCw5OVlr1qxxbTdtvuczZcoU2Ww2DR8+3DVm2ryfffZZ2Ww2t1uzZs1c202b769++OEHPfTQQ6pXr55CQkLUsmVLbdmyxbXdtNewhISEc55nm82m9PR0SeY+z7+i7FSTJUuWaOTIkRo/fry2bt2q1q1bq0uXLjpy5Iivo3lFeXm5WrdurdmzZ593+7Rp0zRr1izNnTtXubm5Cg0NVZcuXXTy5MnLnNQ71q9fr/T0dH3++edau3atTp8+rbvvvlvl5eWufUaMGKH33ntPS5cu1fr163Xo0CHdd999PkxdNY0aNdKUKVOUl5enLVu26M4771TPnj21c+dOSebN9z9t3rxZr7zyilq1auU2buK8b7jhBh0+fNh127hxo2ubifM9duyYUlJSVLt2ba1Zs0ZfffWVpk+frrp167r2Me01bPPmzW7P8dq1ayVJ999/vyQzn2c3FqrFjTfeaKWnp7vunz171oqNjbUyMzN9mKp6SLKWL1/uuu90Oi2Hw2H9z//8j2usuLjYstvt1ttvv+2DhN535MgRS5K1fv16y7J+mV/t2rWtpUuXuvbZtWuXJcnKycnxVUyvq1u3rvXaa68ZP9/jx49bTZs2tdauXWvddttt1rBhwyzLMvN5Hj9+vNW6devzbjNxvpZlWaNHj7Y6dep0we1XwmvYsGHDrGuuucZyOp3GPs+/xcpONTh16pTy8vKUmprqGgsICFBqaqpycnJ8mOzy2LdvnwoLC93mHxERoaSkJGPmX1JSIkmKioqSJOXl5en06dNuc27WrJni4+ONmPPZs2f1zjvvqLy8XMnJycbPNz09XT169HCbn2Tu87xnzx7FxsaqSZMm6tu3rw4ePCjJ3PmuXLlSHTp00P33368GDRqobdu2mjdvnmu76a9hp06d0ptvvqlHHnlENpvN2Of5tyg71eCnn37S2bNnz/kE5+joaBUWFvoo1eXz6xxNnb/T6dTw4cOVkpKiFi1aSPplzkFBQed8oWxNn/MXX3yhsLAw2e12PfbYY1q+fLmaN29u7Hwl6Z133tHWrVuVmZl5zjYT552UlKSFCxcqKytLc+bM0b59+3TLLbfo+PHjRs5Xkr777jvNmTNHTZs21QcffKDHH39cQ4cO1RtvvCHJ/NewFStWqLi4WP3795dk5n/X/8mIr4sALqf09HR9+eWXbtc1mOq6665Tfn6+SkpK9I9//EP9+vXT+vXrfR2r2hQUFGjYsGFau3atgoODfR3nsujWrZvr51atWikpKUmNGzfWu+++q5CQEB8mqz5Op1MdOnTQ5MmTJUlt27bVl19+qblz56pfv34+Tlf95s+fr27duik2NtbXUS4bVnaqQf369VWrVq1zrmQvKiqSw+HwUarL59c5mjj/wYMHa9WqVfrkk0/UqFEj17jD4dCpU6dUXFzstn9Nn3NQUJCuvfZatW/fXpmZmWrdurX+/ve/GzvfvLw8HTlyRO3atVNgYKACAwO1fv16zZo1S4GBgYqOjjZy3r8VGRmpP/zhD/r222+NfZ5jYmLUvHlzt7Hrr7/edfrO5NewAwcO6KOPPtKjjz7qGjP1ef4tyk41CAoKUvv27ZWdne0aczqdys7OVnJysg+TXR6JiYlyOBxu8y8tLVVubm6Nnb9lWRo8eLCWL1+ujz/+WImJiW7b27dvr9q1a7vNeffu3Tp48GCNnfP5OJ1OVVRUGDvfzp0764svvlB+fr7r1qFDB/Xt29f1s4nz/q2ysjLt3btXMTExxj7PKSkp53x0xDfffKPGjRtLMvM17FcLFixQgwYN1KNHD9eYqc+zG19fIW2qd955x7Lb7dbChQutr776yho0aJAVGRlpFRYW+jqaVxw/ftzatm2btW3bNkuSNWPGDGvbtm3WgQMHLMuyrClTpliRkZHWv/71L2vHjh1Wz549rcTEROvEiRM+Tn5pHn/8cSsiIsJat26ddfjwYdft559/du3z2GOPWfHx8dbHH39sbdmyxUpOTraSk5N9mLpqMjIyrPXr11v79u2zduzYYWVkZFg2m8368MMPLcsyb74X8tt3Y1mWefN+8sknrXXr1ln79u2zPv30Uys1NdWqX7++deTIEcuyzJuvZVnWpk2brMDAQOu5556z9uzZYy1evNi66qqrrDfffNO1j2mvYZb1y7uC4+PjrdGjR5+zzcTn+bcoO9XoxRdftOLj462goCDrxhtvtD7//HNfR/KaTz75xJJ0zq1fv36WZf3y1s2xY8da0dHRlt1utzp37mzt3r3bt6Gr4HxzlWQtWLDAtc+JEyesJ554wqpbt6511VVXWX/84x+tw4cP+y50FT3yyCNW48aNraCgIOvqq6+2Onfu7Co6lmXefC/kP8uOafPu06ePFRMTYwUFBVkNGza0+vTpY3377beu7abN91fvvfee1aJFC8tut1vNmjWzXn31Vbftpr2GWZZlffDBB5ak887D1Of5VzbLsiyfLCkBAABcBlyzAwAAjEbZAQAARqPsAAAAo1F2AACA0Sg7AADAaJQdAABgNMoOAAAwGmUHAAAYjbIDwK99/fXXuummmxQcHKw2bdpctt9rs9m0YsWKSu377LPPXtZsADxD2QHgFT/++KOCgoJUXl6u06dPKzQ01PUt0lUxfvx4hYaGavfu3W5fVHg+OTk5qlWrltuXHP6eCxWVw4cPq1u3bp7GBeCHKDsAvCInJ0etW7dWaGiotm7dqqioKMXHx1f5uHv37lWnTp3UuHFj1atX76L7zp8/X0OGDNGGDRt06NChi+5rWZbOnDlzwe0Oh0N2u/2SMgPwL5QdAF7x2WefKSUlRZK0ceNG188X43Q6NXHiRDVq1Eh2u11t2rRRVlaWa7vNZlNeXp4mTpwom82mZ5999oLHKisr05IlS/T444+rR48eWrhwodv2devWyWazac2aNWrfvr3sdrvefPNNTZgwQdu3b5fNZpPNZnM97j9PY33//fd68MEHFRUVpdDQUHXo0EG5ubkXzPPaa6/p+uuvV3BwsJo1a6aXX37Zte3UqVMaPHiwYmJiFBwcrMaNGyszM/N3/70AXJpAXwcAUHMdPHhQrVq1kiT9/PPPqlWrlhYuXKgTJ07IZrMpMjJSf/7zn93+0P/W3//+d02fPl2vvPKK2rZtq9dff1333nuvdu7cqaZNm+rw4cNKTU1V165dNWrUKIWFhV0wy7vvvqtmzZrpuuuu00MPPaThw4drzJgxstlsbvtlZGTo+eefV5MmTRQcHKwnn3xSWVlZ+uijjyRJERER5xy7rKxMt912mxo2bKiVK1fK4XBo69atcjqd582yePFijRs3Ti+99JLatm2rbdu2aeDAgQoNDVW/fv00a9YsrVy5Uu+++67i4+NVUFCggoKCSv2bA/AcZQfAJYuNjVV+fr5KS0tdKx2hoaFq06aNVq9erfj4+IsWlOeff16jR4/WAw88IEmaOnWqPvnkE82cOVOzZ8+Ww+FQYGCgwsLC5HA4Lppl/vz5euihhyRJXbt2VUlJidavX6/bb7/dbb+JEyfqrrvuct0PCwtTYGDgRY//1ltv6ccff9TmzZsVFRUlSbr22msvuP/48eM1ffp03XfffZKkxMREffXVV3rllVfUr18/HTx4UE2bNlWnTp1ks9nUuHHji84NQNVwGgvAJQsMDFRCQoK+/vprdezYUa1atVJhYaGio6N16623KiEhQfXr1z/vY0tLS3Xo0KFzTnelpKRo165dHuXYvXu3Nm3apAcffNCVq0+fPpo/f/45+3bo0MGjY0tSfn6+2rZt6yo6F1NeXq69e/dqwIABCgsLc90mTZqkvXv3SpL69++v/Px8XXfddRo6dKg+/PBDjzMBqDxWdgBcshtuuEEHDhzQ6dOn5XQ6FRYWpjNnzujMmTMKCwtT48aNtXPnzmrPMX/+fJ05c0axsbGuMcuyZLfb9dJLL7mdmgoNDfX4+CEhIZXet6ysTJI0b948JSUluW2rVauWJKldu3bat2+f1qxZo48++ki9e/dWamqq/vGPf3icDcDvY2UHwCV7//33lZ+fL4fDoTfffFP5+flq0aKFZs6cqfz8fL3//vsXfGx4eLhiY2P16aefuo1/+umnat68eaUznDlzRosWLdL06dOVn5/vum3fvl2xsbF6++23L/r4oKAgnT179qL7tGrVSvn5+Tp69Ojv5omOjlZsbKy+++47XXvttW63xMRE137h4eHq06eP5s2bpyVLlmjZsmWVOj4Az7GyA+CSNW7cWIWFhSoqKlLPnj1ls9m0c+dOpaWlKSYm5ncf/9RTT2n8+PG65ppr1KZNGy1YsED5+flavHhxpTOsWrVKx44d04ABA865uDgtLU3z58/XY489dsHHJyQkaN++fcrPz1ejRo1Up06dc95y/uCDD2ry5Mnq1auXMjMzFRMTo23btik2NlbJycnnHHPChAkaOnSoIiIi1LVrV1VUVGjLli06duyYRo4cqRkzZigmJkZt27ZVQECAli5dKofDocjIyErPG0DlsbIDoErWrVunjh07Kjg4WJs2bVKjRo0qVXQkaejQoRo5cqSefPJJtWzZUllZWVq5cqWaNm1a6d8/f/58paamnvddVGlpadqyZYt27NhxwcenpaWpa9euuuOOO3T11VefdyUoKChIH374oRo0aKDu3burZcuWmjJliuu01H969NFH9dprr2nBggVq2bKlbrvtNi1cuNC1slOnTh1NmzZNHTp0UMeOHbV//369//77CgjgJRmoDjbLsixfhwAAAKgu/N8IAABgNMoOAAAwGmUHAAAYjbIDAACMRtkBAABGo+wAAACjUXYAAIDRKDsAAMBolB0AAGA0yg4AADAaZQcAABjt/wPlMuyt4L/LCgAAAABJRU5ErkJggg==\n",
      "text/plain": [
       "<Figure size 640x480 with 1 Axes>"
      ]
     },
     "metadata": {},
     "output_type": "display_data"
    }
   ],
   "source": [
    "#Plot the histogram\n",
    "objects = tuple(dz_num_articles)\n",
    "performance = list(dz_num_articles.values())\n",
    "#y_pos = np.arange(performance)\n",
    "\n",
    "fig = plt.figure()\n",
    "plt.ylabel('# of Diseases')\n",
    "plt.xlabel('# of Articles')\n",
    "plt.hist(performance)\n",
    "\n",
    "plt.show()"
   ]
  },
  {
   "cell_type": "code",
   "execution_count": 14,
   "metadata": {
    "scrolled": false
   },
   "outputs": [],
   "source": [
    "fig.savefig('ArticlesPerDisease_Hist.png', dpi=400, bbox_inches='tight')"
   ]
  },
  {
   "cell_type": "markdown",
   "metadata": {},
   "source": [
    "This is the section for gathering predictions\n",
    "--------------------------------------------------------------"
   ]
  },
  {
   "cell_type": "code",
   "execution_count": 16,
   "metadata": {
    "scrolled": true
   },
   "outputs": [
    {
     "name": "stdout",
     "output_type": "stream",
     "text": [
      "ROHHAD\n",
      "{'32925400': 'Rapid onset Obesity, Hypothalamic dysfunction, Hypoventilation, and Autonomic Dysregulation (ROHHAD) is a rare syndrome whose underlying pathophysiology and etiology remain elusive. We present the case of a 36-month-old boy with the classic symptoms of ROHHAD and a neuroendocrine tumor, who progressed rapidly and subsequently succumbed to cardiorespiratory arrest because of hypoventilation. His magnetic resonance imaging findings at the initial diagnosis and the brain autopsy results are detailed. The literature was reviewed to summarize the current understanding of the underlying mechanism of this rare disorder.', '33542648': 'Rapid-onset obesity with hypoventilation, hypothalamic dysfunction, autonomic dysregulation (ROHHAD) syndrome is a rare disease with unknown and debated etiology, characterized by precipitous obesity in young children, hypoventilation and autonomic dysregulation with various endocrine abnormalities. Neuroendocrine tumors can be associated in more than half of the cases. This rare condition has a severe outcome because of high morbidity and mortality. We provide a comprehensive description of the etiopathogenetic theories of the disease, clinical presentation, diagnostic workup and treatment possibilities.', '33270379': '<h4>Objective</h4>To characterize the clinical presentation of sleep-disordered breathing and respiratory patterns at rest and during a 6-min walk test (6MWT) in children with rapid-onset obesity, hypothalamic dysfunction, hypoventilation, and autonomic dysregulation (ROHHAD) syndrome.<h4>Methods</h4>Retrospective study of children with ROHHAD who had a diagnostic baseline polysomnography, daytime cardiorespiratory monitoring at rest and a 6MWT. Polysomnography data were also compared with body mass index-, age-, and sex-matched controls.<h4>Results</h4>Of the eight children with ROHHAD, all eight (100%) had obstructive sleep apnea (OSA) and 2/8 (25%) had nocturnal hypoventilation (NH) on their baseline polysomnography. Comparing the ROHHAD group to the control group, there were no significant differences in the median (interquartile range [IQR]) obstructive apnea-hypopnea index (11.1 [4.3-58.4] vs. 14.4 [10.3-23.3] events/h, respectively; p\\u2009=\\u2009.78). However, children with ROHHAD showed a significantly higher desaturation index compared to the control group (37.9 [13.7-59.8] vs. 14.7 [4.3-27.6] events/h; p\\u2009=\\u2009.05). While awake at rest, some children with ROHHAD experienced significant desaturations associated with central pauses. During the 6MWT, no significant desaturations were observed, but two children showed moderate functional limitation.<h4>Conclusions</h4>Among children with ROHHAD, respiratory instability may be demonstrated by a significant number and severity of oxygen desaturations during sleep in the presence of OSA, with or without NH, and oxygen desaturations with central pauses at rest during wakefulness. Interestingly, during daily activities that require submaximal effort, children may not experience oxygen desaturations. Early recognition of respiratory abnormalities and targeted therapeutic interventions are important to limit associated morbidity and mortality in ROHHAD.', '33330273': 'Rapid-onset obesity with hypoventilation, hypothalamic dysfunction, and autonomic dysregulation (ROHHAD) syndrome; is a rare but crucial disorder. Sleep-disordered breathing can occur at the beginning or after of obesity. A disease-specific test for diagnosis is not yet available. Neural crest tumors (ganglioneuroma, ganglioneuroblastoma) have been reported in 40% of patients. In our study, three patients diagnosed as having ROHHAD syndrome are presented from our hospital. In the evaluation of the hypothalamic functions of the patients, one of them had growth hormone deficiency and hyperprolactinemia; recurrent hypernatremia reflecting irregular water balance was detected in another. One of the patients had abnormal pupil reflex and heart rate irregularity while another had excessive sweating as autonomic dysfunction. One of the patients was diagnosed with paravertebral ganglioma accompanying ROHHAD syndrome. Non-invasive ventilation treatment was started in all patients because there was a sleep-disorder breathing clinic diagnosis. ROHHAD syndrome deserves a multidisciplinary team approach as it can affect more than one organ system. In these patients, should be sleep-disorder breathing determined early and appropriate treatment should be initiated immediately to reduce morbidity and mortality.', '32990648': \"Objectives Rapid-onset obesity with hypoventilation, hypothalamic dysfunction, and autonomic dysregulation (ROHHAD) is a rare, potentially fatal, pediatric syndrome. Case presentations We describe three cases of ROHHAD-syndrome in Greece. The main and earliest symptom was the excessive and rapid weight gain at 5, 2, and 3 years of age. Years after the onset of obesity, the patients developed hypothalamic dysfunction with various endocrinological abnormalities (at 9, 8, and 6.8 years, respectively), autonomic dysregulation and finally, alveolar hypoventilation (at 14.6, 8, and 7.8 years, respectively), leading to the diagnosis of ROHHAD-syndrome. Conclusions The rarity of the syndrome, the variable symptoms' presentation, and the lack of specific diagnostic tests could explain why no previous cases have been reported from our country. The rapid onset of obesity was underestimated, and the patients were misdiagnosed with other more common obesity syndromes. Therefore, we propose a questionnaire to help physicians identify patients with ROHHAD-syndrome.\", '32638701': '<h4>Study objectives</h4>Rapid-onset obesity with hypothalamic dysregulation, hypoventilation, and autonomic dysregulation (ROHHAD) is a rare condition. Little is known about sleep/wake and slow-wave activity in this condition, although the central hypothalamic dysfunction associated with autonomic dysregulation would make the occurrence of SWA deregulation most likely.<h4>Methods</h4>Two children with clinical presentation of ROHHAD syndrome were evaluated, diagnosed, and treated. Their polysomnographic studies were compared with 4 matched children with obstructive sleep apnea and 6 controls.<h4>Results</h4>Children that were clinically diagnosed with ROHHAD exhibited significantly weaker slow-wave activity power and shallower slow-wave activity slopes during the first 2 sleep cycles compared with children with obstructive sleep apnea or controls.<h4>Conclusions</h4>This study shows that children with ROHHAD have suppressed slow-wave activity, possibly because of hypothalamic dysregulation that may contribute to their rapid-onset obesity and excessive daytime sleepiness.', '32407531': '<h4>Context</h4>Rapid-onset obesity with hypothalamic dysfunction, hypoventilation, autonomic dysregulation and neural crest tumor (ROHHHAD[NET]) is a rare and potentially fatal disease. No specific diagnostic biomarker is currently available, making prompt diagnosis challenging. Since its first definition in 2007, a complete clinical analysis leading to specific diagnosis and follow-up recommendations is still missing.<h4>Objective</h4>The purpose of this work is to describe the clinical timeline of symptoms of ROHHAD(NET) and propose recommendations for diagnosis and follow-up.<h4>Design</h4>We conducted a systematic review of all ROHHAD(NET) case studies and report a new ROHHAD patient with early diagnosis and multidisciplinary care.<h4>Methods</h4>All the articles that meet the definition of ROHHAD(NET) and provide chronological clinical data were reviewed according to the Preferred Reporting Items for Systematic Reviews and Meta-Analysis individual patient data guidelines. The data were grouped into 7 categories: hypothalamic dysfunction, autonomic dysregulation, hypoventilation, NET, psychiatric symptoms, other clinical manifestations, and outcome.<h4>Results</h4>Forty-three individual patient data descriptions were analyzed. The timeline of the disease shows rapid-onset obesity followed shortly by hypothalamic dysfunction. Dysautonomia was reported at a median age of 4.95 years and hypoventilation at 5.33 years, or 2.2 years after the initial obesity. A NET was reported in 56% of the patients, and 70% of these tumors were diagnosed within 2 years after initial weight gain.<h4>Conclusion</h4>Because early diagnosis improves the clinical management and the prognosis in ROHHAD(NET), this diagnosis should be considered for any child with rapid and early obesity. We propose guidance for systematic follow-up and advise multidisciplinary management with the aim of improving prognosis and life expectancy.', '33884253': 'A microdeletion in the 15q13.3 locus is an exceedingly rare condition affecting the CHRNA7 gene. There have been 11 pediatric cases of this mutation reported worldwide. Clinical characteristics of the 15q13.3 microdeletion are rapid-onset obesity, hypotonia, autism, seizures, congenital cardiac defects, and neuropsychiatric disorders including impulsive hyperphagia. We describe the case of a four-year-old female with CHRNA7 15q13.3 microdeletion presenting with morbid obesity due to impulsive food-seeking behavior. We have also conducted a literature review on 15q13.3 microdeletion and compared the clinical features with other rapid-onset obesity disorders in the pediatric population. The goal of this case report is to increase awareness concerning CHRNA7 15q13.3 microdeletion as part of the differential diagnosis of rapid-onset obesity associated with neuropsychiatric disorders in pediatrics.', '33131656': 'Obesity hypoventilation syndrome is the most frequent cause of chronic hypoventilation and is increasingly more common with rising obesity rates. It leads to considerable morbidity and mortality, particularly when not recognized and treated adequately. Long-term nocturnal noninvasive ventilation is the mainstay of treatment but evidence suggests that CPAP may be effective in stable patients. Specific perioperative management is required to reduce complications. Some unique syndromes associated with obesity and hypoventilation include rapid-onset obesity with hypoventilation, hypothalamic, autonomic dysregulation (ROHHAD), and Prader-Willi syndrome. Congenital central hypoventilation syndrome (early or late-onset) is a genetic disorder resulting in hypoventilation. Several acquired causes of chronic central hypoventilation also exist. A high level of clinical suspicion is required to appropriately diagnose and manage affected patients.', '32851331': '<h4>Introduction</h4>Rapid-onset obesity with hypothalamic dysfunction, hypoventilation, and autonomic dysregulation (ROHHAD) syndrome is an exceptionally rare clinical entity with significant morbidity and high mortality with challenging-to-treat hypoventilation.<h4>Case presentation</h4>An 11-year-old morbidly obese Chinese female presented with a putative diagnosis of ROHHAD associated with a left psoas ganglioneuroma. Initial polysomnography showed severe obstructive sleep apnea and hypoventilation. She was not adherent to prescribed non-invasive positive pressure ventilation (NIPPV). Echocardiography demonstrated evidence of pulmonary hypertension, likely secondary to chronic hypoventilation. With behavioral modification and trial of average volume-assured pressure support (AVAPS), adherence improved with eventual improvement of her pulmonary hypertension.<h4>Conclusion</h4>AVAPS may improve ventilation and NIPPV adherence in central hypoventilation disorders such as ROHHAD, reducing risk of morbidity and mortality.', '31333877': '<h4>Background</h4>Rapid-onset obesity with hypothalamic dysfunction, hypoventilation, and autonomic dysregulation (ROHHAD) is a rare syndrome with unknown etiology. Metabolic abnormalities are not known to be part of the syndrome. We present one of the oldest cases reported in\\xa0the\\xa0literature, who developed severe metabolic abnormalities and hepatic disease suggesting that these features may be part of the syndrome.<h4>Case presentation</h4>A 27-year-old woman, diagnosed with ROHHAD syndrome at age 15, who previously developed diabetes insipidus, growth hormone deficiency, hyperprolactinemia, and hypothyroidism in her first decade of life. This was followed by insulin resistance, NAFLD, liver fibrosis, and splenomegaly before age 14\\u2009years. Her regimen included a short course of growth hormone, and cyclic estrogen and progesterone. Her metabolic deterioration continued despite treatment with metformin. Interestingly, she had a favorable response to liraglutide therapy despite having a centrally mediated cause for her obesity. At age 26, a 1.6\\u2009cm lesion was found incidentally in her liver. Liver biopsy showed hepatocellular carcinoma which was successfully treated with radiofrequency ablation.<h4>Conclusion</h4>Metabolic abnormalities, Insulin resistance and fatty liver disease are potentially part of the ROHHAD syndrome that may develop over time. GLP1 agonists were reasonably effective to treat insulin resistance and hyperphagia. Patients with ROHHAD may benefit from close follow up in regards to liver disease.', '33920088': 'There are limited reports on the use of tolvaptan for syndrome of inappropriate antidiuretic hormone secretion (SIADH) in children. Managing serum sodium levels in SIADH patients during chemotherapy is often difficult because of the need for massive fluid infusions. We report the course of the use of tolvaptan for the treatment of hyponatremia during chemotherapy in a four-year-old girl with a suprasellar germ cell tumor. The patient was a Japanese girl who presented with left ptosis with a mass in the pituitary gland and cavernous sinus. She was diagnosed with an intermediate-grade germ cell tumor and was treated with carboplatin and etoposide combination chemotherapy. She developed hyponatremia due to SIADH caused by intravenous infusion therapy before chemotherapy. Subsequently, tolvaptan (3.25 mg; 0.20 mg/kg/dose) was administered orally to control serum sodium levels. After 4 h of administration, a marked increase in urine volume of up to 15 mL/kg/h was observed, and serum sodium level increased from 126 to 138 mEq/L after 10 h of tolvaptan administration, followed by a decrease in urine volume. The use of tolvaptan in pediatric patients with SIADH who require intravenous hydration during chemotherapy can be useful for the management of serum sodium balance.', '31039576': '<h4>Background</h4>Rapid-onset Obesity with Hypothalamic dysfunction, Hypoventilation and Autonomic Dysregulation (ROHHAD) is a very rare and complex pediatric syndrome characterized by altered hypothalamic thermal regulation, pain threshold, and respiratory control, hyperphagia with rapid weight gain and, often, hypothalamic-pituitary dysfunction. Its etiopathogenesis remains undetermined. We investigated the presence of alterations to target genes and hypothalamic-pituitary autoimmunity in a patient with -ROHHAD syndrome.<h4>Methods</h4>A 3-year-old girl presenting with obesity after rapid weight gain was diagnosed with ROHHAD syndrome based on clinical features and abnormal biochemical and functional testing results. Because of worsening of rapid symptoms and demonstration of oligoclonal bands on cerebrospinal fluid (CSF) analysis, she was treated with plasmapheresis, methylprednisolone, anti-CD20 monoclonal antibodies, and azathioprine. Despite initial partial clinical improvement, the patient soon died of cardiorespiratory arrest. Post-mortem, whole exome sequencing, high-resolution comparative genomic hybridization array, and optimized indirect immunofluorescence (IIF) analysis were performed on blood and CSF.<h4>Results</h4>No putative causative genomic variants compatible with dominant or recessive inheritance nor clinically significant structural rearrangement were detected. IIF on serum and CSF demonstrated the presence of anti-pituitary and anti-hypothalamus autoantibodies.<h4>Conclusions</h4>These findings support the involvement of autoimmunity in ROHHAD syndrome. However, response to immunosuppressive treatment was only transient and the patient died. Further cases are required to define the complex disease pathogenesis.', '32637385': 'Central hypoventilation (CH) is a quite rare disorder caused by some congenital or acquired conditions. It is featured by increased arterial concentration of serum carbon dioxide related to an impairment of respiratory drive. Patients affected by CH need to be treated by mechanical ventilation in order to achieve appropriate ventilation and oxygenation both in sleep and wakefulness. In fact, in severe form of Congenital Central Hypoventilation Syndrome (CCHS) hypercarbia can be present even during the day. Positive pressure ventilation via tracheostomy is the first therapeutic option in this clinical condition, especially in congenital forms. Non-Invasive ventilation is a an option that must be reserved for more stable clinical situations and that requires careful monitoring over time.', '30029683': '<h4>Background</h4>Rapid-onset obesity with hypothalamic dysfunction, hypoventilation, and autonomic dysregulation (ROHHAD) is a very rare and potentially fatal pediatric disorder, the cause of which is presently unknown. ROHHAD is often compared to Prader-Willi syndrome (PWS) because both share childhood obesity as one of their most prominent and recognizable signs, and because other symptoms such as hypoventilation and autonomic dysfunction are seen in both. These phenotypic similarities suggest they might be etiologically related conditions. We performed an in-depth clinical comparison of the phenotypes of ROHHAD and PWS and used NGS and Sanger sequencing to analyze the coding regions of genes in the PWS region among seven ROHHAD probands.<h4>Results</h4>Detailed clinical comparison of ROHHAD and PWS patients revealed many important differences between the phenotypes. In particular, we highlight the fact that the areas of apparent overlap (childhood-onset obesity, hypoventilation, autonomic dysfunction) actually differ in fundamental ways, including different forms and severity of hypoventilation, different rates of obesity onset, and different manifestations of autonomic dysfunction. We did not detect any disease-causing mutations within PWS candidate genes in ROHHAD probands.<h4>Conclusions</h4>ROHHAD and PWS are clinically distinct conditions, and do not share a genetic etiology. Our detailed clinical comparison and genetic analyses should assist physicians in timely distinction between the two disorders in obese children. Of particular importance, ROHHAD patients will have had a normal and healthy first year of life; something that is never seen in infants with PWS.', '30584530': '<h4>Background and aim</h4>ROHHADNET (rapid-onset obesity with hypoventilation, hypothalamic, autonomic dysregulation, neuroendocrine tumor) syndrome is a rare disease with grave outcome. Although early recognition is essential, prompt diagnosis may be challenging due to its extreme rarity. This study aimed to systematically review its clinical manifestation and to identify genetic causes.<h4>Materials and methods</h4>We firstly conducted a systematic review on ROHHAD/NET. Electronic databases were searched using related terms. We secondly performed whole exome sequencing (WES) and examined copy number variation (CNV) in two patients to identify genetic causes.<h4>Results</h4>In total, 46 eligible studies including 158 patients were included. There were 36 case reports available for individual patient data (IPD; 48 patients, 23 ROHHAD, and 25 ROHHADNET) and 10 case series available for aggregate patient data (APD; 110 patients, 71 ROHHAD, and 39 ROHHADNET). The median age at onset calculated from IPD was 4 years. Gender information was available in 100 patients (40 from IPD and 60 from APD) in which 65 females and 35 males were showing female preponderance. Earliest manifestation was rapid obesity, followed by hypothalamic symptoms. Most common types of neuroendocrine tumors were ganglioneuromas. Patients frequently had dysnatremia and hyperprolactinemia. Two patients were available for WES. Rare variants were identified in <i>PIK3R3</i>, <i>SPTBN5,</i> and <i>PCF11</i> in one patient and <i>SRMS</i>, <i>ZNF83,</i> and <i>KMT2B</i> in another patient, respectively. However, there was no surviving variant shared by the two patients after filtering.<h4>Conclusions</h4>This study systematically reviewed the phenotype of ROHHAD/NET aiming to help early recognition and reducing morbidity. The link of variants identified in the present WES requires further investigation.', '29728260': 'Rapid-onset obesity with hypothalamic dysfunction, hypoventilation, and autonomic dysregulation (ROHHAD) syndrome is a rare entity that is characterised by its onset in healthy children at 2-4 years of age. It is a complex syndrome that includes, among other symptoms, rapid weight gain with hyperphagia, hypothalamic dysfunction, central hypoventilation, and autonomic dysregulation. The case is presented of a 10-year-old boy with a diagnosis of ROHHAD syndrome undergoing insertion of a port-a-cath under general anaesthesia, who developed complications during the anaesthetic procedure related to his illness. The peri-operative management of these patients represents a challenge for the anaesthetist, given the involvement of multiple systems and the frequent respiratory comorbidities associated with them. A summary is presented of some of the implications and anaesthetic considerations that must be taken into account in the management of these patients.', '29553042': 'Rapid-onset obesity with hypoventilation, hypothalamic dysfunction and autonomic dysregulation (ROHHAD) syndrome is a rare disease that is difficult to diagnosis and distinguish from genetic obesity syndromes. The underlying causes of the disease have not been fully explained. Hypothalamic dysfunction causes endocrine problems, respiratory dysfunction and autonomic alterations. Currently there are around 80 reported patients although this is likely due to underdiagnosis due to lack of recognition. We present two female patients suspected of ROHHAD due to weight gain starting in early childhood. Clinical and biochemical findings such as respiratory and circulatory dysfunction, hypothalamic hypernatremia, central hypothyrodism, hyperprolactinemia and central early puberty in these patients matched the criteria for ROHHAD syndrome. ROHHAD syndrome should be considered in the differential diagnosis of monogenic obesity.', '30294553': 'Central hypothyroidism (CH) occurs approximately in 1:50,000, and therefore is expected to be one thousand times rarer compared with primary hypothyroidism. Despite its rarity in the general population, it is much more common in certain disorders, in which it is frequently associated with other pituitary hormone deficiencies. The aim of this paper is to provide an updated review on the frequency of congenital CH, which is <1:50,000, and on its etiology, disregarding CH caused by other genetic defects, such as mutations of transcription factors involved in pituitary organogenesis or mutations of the genes encoding TRH or TRH receptor.'}\n"
     ]
    }
   ],
   "source": [
    "#How to extract and piece together the df\n",
    "print(dz_list[1][0])\n",
    "print(dz_pmid_abs_list[1])"
   ]
  },
  {
   "cell_type": "code",
   "execution_count": 17,
   "metadata": {
    "scrolled": false
   },
   "outputs": [
    {
     "name": "stderr",
     "output_type": "stream",
     "text": [
      "2021-07-03 00:39:07.918560: W tensorflow/stream_executor/platform/default/dso_loader.cc:64] Could not load dynamic library 'libcuda.so.1'; dlerror: libcuda.so.1: cannot open shared object file: No such file or directory\n",
      "2021-07-03 00:39:07.918589: W tensorflow/stream_executor/cuda/cuda_driver.cc:326] failed call to cuInit: UNKNOWN ERROR (303)\n",
      "2021-07-03 00:39:07.918604: I tensorflow/stream_executor/cuda/cuda_diagnostics.cc:156] kernel driver does not appear to be running on this host (pubmed.ncats.io): /proc/driver/nvidia/version does not exist\n",
      "2021-07-03 00:39:07.918779: I tensorflow/core/platform/cpu_feature_guard.cc:142] This TensorFlow binary is optimized with oneAPI Deep Neural Network Library (oneDNN) to use the following CPU instructions in performance-critical operations:  AVX2 AVX512F FMA\n",
      "To enable them in other operations, rebuild TensorFlow with the appropriate compiler flags.\n",
      "2021-07-03 00:39:15.337873: I tensorflow/compiler/mlir/mlir_graph_optimization_pass.cc:176] None of the MLIR Optimization Passes are enabled (registered 2)\n",
      "2021-07-03 00:39:15.360824: I tensorflow/core/platform/profile_utils/cpu_utils.cc:114] CPU Frequency: 2499995000 Hz\n"
     ]
    }
   ],
   "source": [
    "#Assemble dataset and run epiPredictions\n",
    "df_results = pd.DataFrame(columns=['disease','pmid', 'abstract'])\n",
    "i,j=0,0\n",
    "for namelist in dz_list:\n",
    "    disease = namelist[0]\n",
    "    for k, v in dz_pmid_abs_list[j].items():\n",
    "        pmid = k\n",
    "        abstract = v\n",
    "        df_results.loc[i] = [disease]+[pmid]+[abstract]\n",
    "        i+=1\n",
    "    j+=1"
   ]
  },
  {
   "cell_type": "code",
   "execution_count": 18,
   "metadata": {
    "scrolled": true
   },
   "outputs": [
    {
     "data": {
      "text/html": [
       "<div>\n",
       "<style scoped>\n",
       "    .dataframe tbody tr th:only-of-type {\n",
       "        vertical-align: middle;\n",
       "    }\n",
       "\n",
       "    .dataframe tbody tr th {\n",
       "        vertical-align: top;\n",
       "    }\n",
       "\n",
       "    .dataframe thead th {\n",
       "        text-align: right;\n",
       "    }\n",
       "</style>\n",
       "<table border=\"1\" class=\"dataframe\">\n",
       "  <thead>\n",
       "    <tr style=\"text-align: right;\">\n",
       "      <th></th>\n",
       "      <th>disease</th>\n",
       "      <th>pmid</th>\n",
       "      <th>abstract</th>\n",
       "      <th>epi_prob</th>\n",
       "      <th>is_epi</th>\n",
       "    </tr>\n",
       "  </thead>\n",
       "  <tbody>\n",
       "    <tr>\n",
       "      <th>0</th>\n",
       "      <td>Syngnathia cleft palate</td>\n",
       "      <td>21501960</td>\n",
       "      <td>Syngnathia occurs when an ectopic membrane for...</td>\n",
       "      <td>0.012472</td>\n",
       "      <td>False</td>\n",
       "    </tr>\n",
       "    <tr>\n",
       "      <th>1</th>\n",
       "      <td>Syngnathia cleft palate</td>\n",
       "      <td>31378081</td>\n",
       "      <td>In rare instances, cleft lip and palate occur ...</td>\n",
       "      <td>0.018302</td>\n",
       "      <td>False</td>\n",
       "    </tr>\n",
       "    <tr>\n",
       "      <th>2</th>\n",
       "      <td>Syngnathia cleft palate</td>\n",
       "      <td>31572079</td>\n",
       "      <td>Palatoglossal bands are one of the very rare c...</td>\n",
       "      <td>0.015344</td>\n",
       "      <td>False</td>\n",
       "    </tr>\n",
       "    <tr>\n",
       "      <th>3</th>\n",
       "      <td>Syngnathia cleft palate</td>\n",
       "      <td>32792827</td>\n",
       "      <td>Congenital pits on lower lips unassociated wit...</td>\n",
       "      <td>0.105112</td>\n",
       "      <td>False</td>\n",
       "    </tr>\n",
       "    <tr>\n",
       "      <th>4</th>\n",
       "      <td>Syngnathia cleft palate</td>\n",
       "      <td>30607232</td>\n",
       "      <td>The Van der Woude syndrome is a rare autosomal...</td>\n",
       "      <td>0.027180</td>\n",
       "      <td>False</td>\n",
       "    </tr>\n",
       "    <tr>\n",
       "      <th>...</th>\n",
       "      <td>...</td>\n",
       "      <td>...</td>\n",
       "      <td>...</td>\n",
       "      <td>...</td>\n",
       "      <td>...</td>\n",
       "    </tr>\n",
       "    <tr>\n",
       "      <th>9279</th>\n",
       "      <td>Cogan-Reese syndrome</td>\n",
       "      <td>33300272</td>\n",
       "      <td>Various methods have been described to treat n...</td>\n",
       "      <td>0.010466</td>\n",
       "      <td>False</td>\n",
       "    </tr>\n",
       "    <tr>\n",
       "      <th>9280</th>\n",
       "      <td>Cogan-Reese syndrome</td>\n",
       "      <td>33530790</td>\n",
       "      <td>&lt;h4&gt;Objective&lt;/h4&gt;To assess the therapeutic ef...</td>\n",
       "      <td>0.014457</td>\n",
       "      <td>False</td>\n",
       "    </tr>\n",
       "    <tr>\n",
       "      <th>9281</th>\n",
       "      <td>Cogan-Reese syndrome</td>\n",
       "      <td>33985356</td>\n",
       "      <td>Mayer-Rokitansky-Kuster-Hauser (MRKH) syndrome...</td>\n",
       "      <td>0.402330</td>\n",
       "      <td>False</td>\n",
       "    </tr>\n",
       "    <tr>\n",
       "      <th>9282</th>\n",
       "      <td>Cogan-Reese syndrome</td>\n",
       "      <td>33898257</td>\n",
       "      <td>Mayer-Rokitansky-Küster-Hauser (MRKH) syndrome...</td>\n",
       "      <td>0.012231</td>\n",
       "      <td>False</td>\n",
       "    </tr>\n",
       "    <tr>\n",
       "      <th>9283</th>\n",
       "      <td>Cogan-Reese syndrome</td>\n",
       "      <td>33461758</td>\n",
       "      <td>&lt;h4&gt;Objective&lt;/h4&gt;To introduce the minimally i...</td>\n",
       "      <td>0.014154</td>\n",
       "      <td>False</td>\n",
       "    </tr>\n",
       "  </tbody>\n",
       "</table>\n",
       "<p>9284 rows × 5 columns</p>\n",
       "</div>"
      ],
      "text/plain": [
       "                      disease      pmid  \\\n",
       "0     Syngnathia cleft palate  21501960   \n",
       "1     Syngnathia cleft palate  31378081   \n",
       "2     Syngnathia cleft palate  31572079   \n",
       "3     Syngnathia cleft palate  32792827   \n",
       "4     Syngnathia cleft palate  30607232   \n",
       "...                       ...       ...   \n",
       "9279     Cogan-Reese syndrome  33300272   \n",
       "9280     Cogan-Reese syndrome  33530790   \n",
       "9281     Cogan-Reese syndrome  33985356   \n",
       "9282     Cogan-Reese syndrome  33898257   \n",
       "9283     Cogan-Reese syndrome  33461758   \n",
       "\n",
       "                                               abstract  epi_prob is_epi  \n",
       "0     Syngnathia occurs when an ectopic membrane for...  0.012472  False  \n",
       "1     In rare instances, cleft lip and palate occur ...  0.018302  False  \n",
       "2     Palatoglossal bands are one of the very rare c...  0.015344  False  \n",
       "3     Congenital pits on lower lips unassociated wit...  0.105112  False  \n",
       "4     The Van der Woude syndrome is a rare autosomal...  0.027180  False  \n",
       "...                                                 ...       ...    ...  \n",
       "9279  Various methods have been described to treat n...  0.010466  False  \n",
       "9280  <h4>Objective</h4>To assess the therapeutic ef...  0.014457  False  \n",
       "9281  Mayer-Rokitansky-Kuster-Hauser (MRKH) syndrome...  0.402330  False  \n",
       "9282  Mayer-Rokitansky-Küster-Hauser (MRKH) syndrome...  0.012231  False  \n",
       "9283  <h4>Objective</h4>To introduce the minimally i...  0.014154  False  \n",
       "\n",
       "[9284 rows x 5 columns]"
      ]
     },
     "execution_count": 18,
     "metadata": {},
     "output_type": "execute_result"
    }
   ],
   "source": [
    "df_results"
   ]
  },
  {
   "cell_type": "code",
   "execution_count": 21,
   "metadata": {},
   "outputs": [],
   "source": [
    "df_results.to_csv('whole_abstract_set.csv',index=False)"
   ]
  }
 ],
 "metadata": {
  "kernelspec": {
   "display_name": "Python 3",
   "language": "python",
   "name": "python3"
  },
  "language_info": {
   "codemirror_mode": {
    "name": "ipython",
    "version": 3
   },
   "file_extension": ".py",
   "mimetype": "text/x-python",
   "name": "python",
   "nbconvert_exporter": "python",
   "pygments_lexer": "ipython3",
   "version": "3.8.3"
  }
 },
 "nbformat": 4,
 "nbformat_minor": 1
}
