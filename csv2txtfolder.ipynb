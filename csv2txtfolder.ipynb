{
 "cells": [
  {
   "cell_type": "code",
   "execution_count": 1,
   "metadata": {},
   "outputs": [],
   "source": [
    "import pandas as pd\n",
    "import io\n",
    "import re"
   ]
  },
  {
   "cell_type": "code",
   "execution_count": 2,
   "metadata": {},
   "outputs": [],
   "source": [
    "df = pd.read_csv('whole_abstract_set.csv')"
   ]
  },
  {
   "cell_type": "code",
   "execution_count": 3,
   "metadata": {
    "scrolled": true
   },
   "outputs": [
    {
     "data": {
      "text/html": [
       "<div>\n",
       "<style scoped>\n",
       "    .dataframe tbody tr th:only-of-type {\n",
       "        vertical-align: middle;\n",
       "    }\n",
       "\n",
       "    .dataframe tbody tr th {\n",
       "        vertical-align: top;\n",
       "    }\n",
       "\n",
       "    .dataframe thead th {\n",
       "        text-align: right;\n",
       "    }\n",
       "</style>\n",
       "<table border=\"1\" class=\"dataframe\">\n",
       "  <thead>\n",
       "    <tr style=\"text-align: right;\">\n",
       "      <th></th>\n",
       "      <th>disease</th>\n",
       "      <th>pmid</th>\n",
       "      <th>abstract</th>\n",
       "    </tr>\n",
       "  </thead>\n",
       "  <tbody>\n",
       "    <tr>\n",
       "      <th>9279</th>\n",
       "      <td>Cogan-Reese syndrome</td>\n",
       "      <td>33300272</td>\n",
       "      <td>Various methods have been described to treat n...</td>\n",
       "    </tr>\n",
       "    <tr>\n",
       "      <th>9280</th>\n",
       "      <td>Cogan-Reese syndrome</td>\n",
       "      <td>33530790</td>\n",
       "      <td>&lt;h4&gt;Objective&lt;/h4&gt;To assess the therapeutic ef...</td>\n",
       "    </tr>\n",
       "    <tr>\n",
       "      <th>9281</th>\n",
       "      <td>Cogan-Reese syndrome</td>\n",
       "      <td>33985356</td>\n",
       "      <td>Mayer-Rokitansky-Kuster-Hauser (MRKH) syndrome...</td>\n",
       "    </tr>\n",
       "    <tr>\n",
       "      <th>9282</th>\n",
       "      <td>Cogan-Reese syndrome</td>\n",
       "      <td>33898257</td>\n",
       "      <td>Mayer-Rokitansky-Küster-Hauser (MRKH) syndrome...</td>\n",
       "    </tr>\n",
       "    <tr>\n",
       "      <th>9283</th>\n",
       "      <td>Cogan-Reese syndrome</td>\n",
       "      <td>33461758</td>\n",
       "      <td>&lt;h4&gt;Objective&lt;/h4&gt;To introduce the minimally i...</td>\n",
       "    </tr>\n",
       "  </tbody>\n",
       "</table>\n",
       "</div>"
      ],
      "text/plain": [
       "                   disease      pmid  \\\n",
       "9279  Cogan-Reese syndrome  33300272   \n",
       "9280  Cogan-Reese syndrome  33530790   \n",
       "9281  Cogan-Reese syndrome  33985356   \n",
       "9282  Cogan-Reese syndrome  33898257   \n",
       "9283  Cogan-Reese syndrome  33461758   \n",
       "\n",
       "                                               abstract  \n",
       "9279  Various methods have been described to treat n...  \n",
       "9280  <h4>Objective</h4>To assess the therapeutic ef...  \n",
       "9281  Mayer-Rokitansky-Kuster-Hauser (MRKH) syndrome...  \n",
       "9282  Mayer-Rokitansky-Küster-Hauser (MRKH) syndrome...  \n",
       "9283  <h4>Objective</h4>To introduce the minimally i...  "
      ]
     },
     "execution_count": 3,
     "metadata": {},
     "output_type": "execute_result"
    }
   ],
   "source": [
    "df.tail()"
   ]
  },
  {
   "cell_type": "code",
   "execution_count": 4,
   "metadata": {},
   "outputs": [
    {
     "name": "stdout",
     "output_type": "stream",
     "text": [
      "9284 7699\n"
     ]
    }
   ],
   "source": [
    "#Total pmids, unique pmids\n",
    "print(len(df[\"pmid\"]),len(df[\"pmid\"].unique()))"
   ]
  },
  {
   "cell_type": "code",
   "execution_count": 5,
   "metadata": {},
   "outputs": [
    {
     "data": {
      "text/html": [
       "<div>\n",
       "<style scoped>\n",
       "    .dataframe tbody tr th:only-of-type {\n",
       "        vertical-align: middle;\n",
       "    }\n",
       "\n",
       "    .dataframe tbody tr th {\n",
       "        vertical-align: top;\n",
       "    }\n",
       "\n",
       "    .dataframe thead th {\n",
       "        text-align: right;\n",
       "    }\n",
       "</style>\n",
       "<table border=\"1\" class=\"dataframe\">\n",
       "  <thead>\n",
       "    <tr style=\"text-align: right;\">\n",
       "      <th></th>\n",
       "      <th>disease</th>\n",
       "      <th>pmid</th>\n",
       "      <th>abstract</th>\n",
       "    </tr>\n",
       "  </thead>\n",
       "  <tbody>\n",
       "    <tr>\n",
       "      <th>0</th>\n",
       "      <td>Syngnathia cleft palate</td>\n",
       "      <td>21501960</td>\n",
       "      <td>Syngnathia occurs when an ectopic membrane for...</td>\n",
       "    </tr>\n",
       "    <tr>\n",
       "      <th>1</th>\n",
       "      <td>Syngnathia cleft palate</td>\n",
       "      <td>31378081</td>\n",
       "      <td>In rare instances, cleft lip and palate occur ...</td>\n",
       "    </tr>\n",
       "    <tr>\n",
       "      <th>2</th>\n",
       "      <td>Syngnathia cleft palate</td>\n",
       "      <td>31572079</td>\n",
       "      <td>Palatoglossal bands are one of the very rare c...</td>\n",
       "    </tr>\n",
       "    <tr>\n",
       "      <th>3</th>\n",
       "      <td>Syngnathia cleft palate</td>\n",
       "      <td>32792827</td>\n",
       "      <td>Congenital pits on lower lips unassociated wit...</td>\n",
       "    </tr>\n",
       "    <tr>\n",
       "      <th>4</th>\n",
       "      <td>Syngnathia cleft palate</td>\n",
       "      <td>30607232</td>\n",
       "      <td>The Van der Woude syndrome is a rare autosomal...</td>\n",
       "    </tr>\n",
       "    <tr>\n",
       "      <th>...</th>\n",
       "      <td>...</td>\n",
       "      <td>...</td>\n",
       "      <td>...</td>\n",
       "    </tr>\n",
       "    <tr>\n",
       "      <th>7694</th>\n",
       "      <td>Cogan-Reese syndrome</td>\n",
       "      <td>34063745</td>\n",
       "      <td>Mayer-Rokitansky-Küster-Hauser (MRKH) syndrome...</td>\n",
       "    </tr>\n",
       "    <tr>\n",
       "      <th>7695</th>\n",
       "      <td>Cogan-Reese syndrome</td>\n",
       "      <td>33714897</td>\n",
       "      <td>Mayer Rokitansky Kuster Hauser (MRKH) syndrome...</td>\n",
       "    </tr>\n",
       "    <tr>\n",
       "      <th>7696</th>\n",
       "      <td>Cogan-Reese syndrome</td>\n",
       "      <td>33300272</td>\n",
       "      <td>Various methods have been described to treat n...</td>\n",
       "    </tr>\n",
       "    <tr>\n",
       "      <th>7697</th>\n",
       "      <td>Cogan-Reese syndrome</td>\n",
       "      <td>33530790</td>\n",
       "      <td>&lt;h4&gt;Objective&lt;/h4&gt;To assess the therapeutic ef...</td>\n",
       "    </tr>\n",
       "    <tr>\n",
       "      <th>7698</th>\n",
       "      <td>Cogan-Reese syndrome</td>\n",
       "      <td>33461758</td>\n",
       "      <td>&lt;h4&gt;Objective&lt;/h4&gt;To introduce the minimally i...</td>\n",
       "    </tr>\n",
       "  </tbody>\n",
       "</table>\n",
       "<p>7699 rows × 3 columns</p>\n",
       "</div>"
      ],
      "text/plain": [
       "                      disease      pmid  \\\n",
       "0     Syngnathia cleft palate  21501960   \n",
       "1     Syngnathia cleft palate  31378081   \n",
       "2     Syngnathia cleft palate  31572079   \n",
       "3     Syngnathia cleft palate  32792827   \n",
       "4     Syngnathia cleft palate  30607232   \n",
       "...                       ...       ...   \n",
       "7694     Cogan-Reese syndrome  34063745   \n",
       "7695     Cogan-Reese syndrome  33714897   \n",
       "7696     Cogan-Reese syndrome  33300272   \n",
       "7697     Cogan-Reese syndrome  33530790   \n",
       "7698     Cogan-Reese syndrome  33461758   \n",
       "\n",
       "                                               abstract  \n",
       "0     Syngnathia occurs when an ectopic membrane for...  \n",
       "1     In rare instances, cleft lip and palate occur ...  \n",
       "2     Palatoglossal bands are one of the very rare c...  \n",
       "3     Congenital pits on lower lips unassociated wit...  \n",
       "4     The Van der Woude syndrome is a rare autosomal...  \n",
       "...                                                 ...  \n",
       "7694  Mayer-Rokitansky-Küster-Hauser (MRKH) syndrome...  \n",
       "7695  Mayer Rokitansky Kuster Hauser (MRKH) syndrome...  \n",
       "7696  Various methods have been described to treat n...  \n",
       "7697  <h4>Objective</h4>To assess the therapeutic ef...  \n",
       "7698  <h4>Objective</h4>To introduce the minimally i...  \n",
       "\n",
       "[7699 rows x 3 columns]"
      ]
     },
     "execution_count": 5,
     "metadata": {},
     "output_type": "execute_result"
    }
   ],
   "source": [
    "pmid = df[\"pmid\"]\n",
    "df[pmid.isin(pmid[pmid.duplicated()])]\n",
    "abstracts_df = df.drop_duplicates(subset='pmid', keep='first', ignore_index=True)\n",
    "abstracts_df"
   ]
  },
  {
   "cell_type": "code",
   "execution_count": 6,
   "metadata": {},
   "outputs": [
    {
     "name": "stdout",
     "output_type": "stream",
     "text": [
      "7699 7699 7699\n"
     ]
    }
   ],
   "source": [
    "dzs = abstracts_df['disease'].to_list()\n",
    "pmids = abstracts_df['pmid'].to_list()\n",
    "abstracts = abstracts_df['abstract'].to_list()\n",
    "print(len(dzs),len(pmids),len(abstracts))"
   ]
  },
  {
   "cell_type": "code",
   "execution_count": 7,
   "metadata": {},
   "outputs": [],
   "source": [
    "def writefile(name,text):\n",
    "    #Remove html remnants\n",
    "    string = re.sub('<.{1,4}>', ' ', text)\n",
    "    string = re.sub(\"  *\", \" \" , string)\n",
    "    string = re.sub(\"^ \", \"\" , string)\n",
    "    string = re.sub(\" $\", \"\" , string)\n",
    "    string = re.sub(\"  \", \" \" , string)\n",
    "    string = string.strip()\n",
    "    \n",
    "    with io.open('./rarediseasecorpus/'+name+'.txt','w', encoding=\"utf-8\") as f:\n",
    "        f.write(string)\n",
    "    f.close()"
   ]
  },
  {
   "cell_type": "code",
   "execution_count": 8,
   "metadata": {},
   "outputs": [],
   "source": [
    "for i in range(len(abstracts)):\n",
    "    name = str(''.join(str(dzs[i]).split('/')))+'_'+str(pmids[i])\n",
    "    writefile(name,str(abstracts[i]))"
   ]
  }
 ],
 "metadata": {
  "kernelspec": {
   "display_name": "Python 3",
   "language": "python",
   "name": "python3"
  },
  "language_info": {
   "codemirror_mode": {
    "name": "ipython",
    "version": 3
   },
   "file_extension": ".py",
   "mimetype": "text/x-python",
   "name": "python",
   "nbconvert_exporter": "python",
   "pygments_lexer": "ipython3",
   "version": "3.8.3"
  }
 },
 "nbformat": 4,
 "nbformat_minor": 4
}
